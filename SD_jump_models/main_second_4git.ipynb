{
 "cells": [
  {
   "cell_type": "markdown",
   "metadata": {},
   "source": [
    "# Build the SD network"
   ]
  },
  {
   "cell_type": "code",
   "execution_count": 3,
   "metadata": {},
   "outputs": [],
   "source": [
    "using Revise, Plots, ArndtLabTheme, LightGraphs, DataFrames, IntervalTrees\n",
    "using Statistics, CSV\n",
    "pyplot()\n",
    "theme(:arndtlab)\n",
    "\n",
    "includet(\"../modules/modules_SDs.jl\")"
   ]
  },
  {
   "cell_type": "code",
   "execution_count": 2,
   "metadata": {},
   "outputs": [
    {
     "data": {
      "text/plain": [
       "(6791, 4)"
      ]
     },
     "execution_count": 2,
     "metadata": {},
     "output_type": "execute_result"
    }
   ],
   "source": [
    "a = SDmoduleInit.Initialize_SD_object(\"../inputs/GRCh38GenomicSuperDup_sort.tab\");\n",
    "b = SDmoduleInit.Initialize_pyr_object(a.int_DF);\n",
    "c, ind_arr, ind_arr2 = SDmoduleInit.Initialize_SD_object(\"../inputs/GRCh38GenomicSuperDup_sort.tab\", comp3=\"filter\");\n",
    "size(b.int_DF)"
   ]
  },
  {
   "cell_type": "code",
   "execution_count": 4,
   "metadata": {},
   "outputs": [
    {
     "data": {
      "text/plain": [
       "\"Double edges = 3703 = 0.2308315671362673 of all edges\""
      ]
     },
     "metadata": {},
     "output_type": "display_data"
    },
    {
     "data": {
      "text/plain": [
       "\"Self loops = 269 = 0.040414663461538464 of all nodes (or 0.05940302896632848 without filtering singleton nodes)\""
      ]
     },
     "metadata": {},
     "output_type": "display_data"
    },
    {
     "data": {
      "text/plain": [
       "\"Tandem edges = 1383 = 0.08621119561151976 of all edges and 0.30815508021390375 of all intra\""
      ]
     },
     "metadata": {},
     "output_type": "display_data"
    },
    {
     "data": {
      "text/plain": [
       "\"Intra = 4488 and Inter = 11554 edges\""
      ]
     },
     "metadata": {},
     "output_type": "display_data"
    },
    {
     "data": {
      "text/plain": [
       "{6656, 16042} undirected Int64 metagraph with Float64 weights defined by :weight (default weight 1.0)"
      ]
     },
     "execution_count": 4,
     "metadata": {},
     "output_type": "execute_result"
    }
   ],
   "source": [
    "# Generate the SD network\n",
    "\n",
    "nex = deepcopy(b)\n",
    "graph_obj = NetworkAnalysis.Initialize_SD_network(b, a.int_DF);\n",
    "graph_obj.mg"
   ]
  },
  {
   "cell_type": "code",
   "execution_count": 5,
   "metadata": {},
   "outputs": [
    {
     "data": {
      "text/plain": [
       "\"Double edges = 2832 = 0.19540467812047196 of all edges\""
      ]
     },
     "metadata": {},
     "output_type": "display_data"
    },
    {
     "data": {
      "text/plain": [
       "\"Self loops = 254 = 0.038161057692307696 of all nodes (or 0.05940302896632848 without filtering singleton nodes)\""
      ]
     },
     "metadata": {},
     "output_type": "display_data"
    },
    {
     "data": {
      "text/plain": [
       "\"Tandem edges = 1305 = 0.09004346926102257 of all edges and 0.313475858755705 of all intra\""
      ]
     },
     "metadata": {},
     "output_type": "display_data"
    },
    {
     "data": {
      "text/plain": [
       "\"Intra = 4163 and Inter = 10330 edges\""
      ]
     },
     "metadata": {},
     "output_type": "display_data"
    },
    {
     "data": {
      "text/plain": [
       "{6656, 14493} undirected Int64 metagraph with Float64 weights defined by :weight (default weight 1.0)"
      ]
     },
     "execution_count": 5,
     "metadata": {},
     "output_type": "execute_result"
    }
   ],
   "source": [
    "# Generate the SD network without \"suspicious\" borders (needed for future filtering)\n",
    "\n",
    "graph_obj2 = NetworkAnalysis.Initialize_SD_network(nex, c.int_DF)\n",
    "graph_obj2.mg"
   ]
  },
  {
   "cell_type": "markdown",
   "metadata": {
    "tags": []
   },
   "source": [
    "# Annotate SD network with genomic features\n",
    "\n",
    "#### (!!!) Works only with additional input files:\n",
    "#### 1) Additional UCSC annotation files are uploaded (see exanmples below)\n",
    "#### 2) N files with duplicated regions coordinates randomly shuffled over the genome of interest. One may use \"bedtools shuffle\" command to generate these files. Example permutation files for GRCh38 are at /inputcsv/shuffle_infiles/\n",
    "#### One can skip this section and use the resulting annotatated duplicated regions. One can find them at /inputcsv/annotated_outfiles/ folder"
   ]
  },
  {
   "cell_type": "code",
   "execution_count": 6,
   "metadata": {},
   "outputs": [],
   "source": [
    "# Generate dfs of dulicated regions with shifted coordinates (by a border step).\n",
    "\n",
    "border = 50\n",
    "\n",
    "step_n_0 = deepcopy(b.int_DF)\n",
    "step_n_100, step_n_200, step_n_300, step_n_400 = deepcopy(b.int_DF), deepcopy(b.int_DF), deepcopy(b.int_DF), deepcopy(b.int_DF)\n",
    "step_p_100, step_p_200, step_p_300, step_p_400 = deepcopy(b.int_DF), deepcopy(b.int_DF), deepcopy(b.int_DF), deepcopy(b.int_DF)\n",
    "step_p_500, step_p_600, step_p_700, step_p_800 = deepcopy(b.int_DF), deepcopy(b.int_DF), deepcopy(b.int_DF), deepcopy(b.int_DF)\n",
    "step_p_900, step_p_1000, step_p_1100, step_p_1200 = deepcopy(b.int_DF), deepcopy(b.int_DF), deepcopy(b.int_DF), deepcopy(b.int_DF)\n",
    "step_p_1300, step_p_1400, step_p_1500, step_p_1600 = deepcopy(b.int_DF), deepcopy(b.int_DF), deepcopy(b.int_DF), deepcopy(b.int_DF)\n",
    "step_p_1700, step_p_1800, step_p_1900, step_p_2000 = deepcopy(b.int_DF), deepcopy(b.int_DF), deepcopy(b.int_DF), deepcopy(b.int_DF)\n",
    "step_p_2100, step_p_2200, step_p_2300, step_p_2400 = deepcopy(b.int_DF), deepcopy(b.int_DF), deepcopy(b.int_DF), deepcopy(b.int_DF)\n",
    "step_p_2500, step_p_2600, step_p_2700, step_p_2800 = deepcopy(b.int_DF), deepcopy(b.int_DF), deepcopy(b.int_DF), deepcopy(b.int_DF)\n",
    "step_p_2900, step_p_3000 = deepcopy(b.int_DF), deepcopy(b.int_DF);\n",
    "\n",
    "steps = [step_n_0, step_n_100, step_n_200, step_n_300, step_n_400,\n",
    "    step_p_100, step_p_200, step_p_300, step_p_400, step_p_500, step_p_600, step_p_700, step_p_800, step_p_900,\n",
    "    step_p_1000, step_p_1100, step_p_1200, step_p_1300, step_p_1400, step_p_1500, step_p_1600, step_p_1700, step_p_1800, step_p_1900, \n",
    "    step_p_2000, step_p_2100, step_p_2200, step_p_2300, step_p_2400, step_p_2500, step_p_2600, step_p_2700, step_p_2800, step_p_2900, step_p_3000]\n",
    "\n",
    "gaps = [-1*border, -2*border, -3*border, -4*border, -5*border, \n",
    "        1*border, 2*border, 3*border, 4*border, 5*border, 6*border, 7*border, 8*border, 9*border, 10*border,\n",
    "        11*border, 12*border, 13*border, 14*border, 15*border, 16*border, 17*border, 18*border, 19*border, 20*border, \n",
    "        21*border, 22*border, 23*border, 24*border, 25*border, 26*border, 27*border, 28*border, 29*border, 30*border];"
   ]
  },
  {
   "cell_type": "code",
   "execution_count": 7,
   "metadata": {},
   "outputs": [],
   "source": [
    "# Shuffle coordinates input files are needed. Example permutation files\n",
    "# for GRCh38 are at inputs/shuffle_infiles/\n",
    "\n",
    "steps_shuff, gaps_shuff = [], []\n",
    "\n",
    "for i in 1:10    # better larger numbers of permutations. As for the test 10 is enough.\n",
    "    name = \"../inputs/shuffle_infiles/df_ws_jumps_shuff_\"*string(i)*\".csv\"\n",
    "    two = DataFrame(CSV.File(name))\n",
    "    two[!, :chr] = string.(two[!, :chr])\n",
    "    append!(steps_shuff, [deepcopy(two)])\n",
    "    append!(gaps_shuff, 0)\n",
    "end\n"
   ]
  },
  {
   "cell_type": "code",
   "execution_count": 8,
   "metadata": {},
   "outputs": [],
   "source": [
    "# Read various USCS annotations\n",
    "# These include: gene coordinates, assembly gaps, centromeres and telomeres coordinates,\n",
    "# CpG islands coors., replication timing, recombination rates, CTCF sites, DNAse HS sites and repeats coordinates\n",
    "# Takes some time to upload. One may use only a subset of annotations (please comment corresponding lines then).\n",
    "\n",
    "using JLD2\n",
    "\n",
    "genes_df = Annotate_SDs.Read_genes_and_gaps_2_DF(\"/home/abdullae/hossein/UCSC_features/genes_GRCh38_noprom_wsex.bed\");\n",
    "genes_tree = ApeLineage.Itree_from_DF_ape_lineage(genes_df, nothing);\n",
    "genes_obj = SDmoduleInit.Interval_object(genes_df, genes_tree);\n",
    "\n",
    "gaps_df = Annotate_SDs.Read_genes_and_gaps_2_DF(\"/home/abdullae/hossein/UCSC_features/hg38_assembly_all_gaps_wsex.bed\");\n",
    "gaps_tree = ApeLineage.Itree_from_DF_ape_lineage(gaps_df, nothing);\n",
    "gaps_obj = SDmoduleInit.Interval_object(gaps_df, gaps_tree);\n",
    "\n",
    "centro_df = Annotate_SDs.Read_genes_and_gaps_2_DF(\"/home/abdullae/hossein/UCSC_features/centromeres_hg38_wsex.txt\");\n",
    "telo_df = Annotate_SDs.Read_genes_and_gaps_2_DF(\"/home/abdullae/hossein/UCSC_features/telomeres_hg38_wsex.txt\");\n",
    "\n",
    "cpgisl_df = Annotate_SDs.Read_genes_and_gaps_2_DF(\"/home/abdullae/hossein/UCSC_features/CpG_islands_hg38_wsex.bed\");\n",
    "cpgisl_tree = ApeLineage.Itree_from_DF_ape_lineage(cpgisl_df, nothing);\n",
    "cpgisl_obj = SDmoduleInit.Interval_object(cpgisl_df, cpgisl_tree);\n",
    "\n",
    "repli_df = Annotate_SDs.Read_repli_recomb_dnase_2_DF(\"/home/abdullae/hossein/UCSC_features/Replit_GM12878_G1b1_hg38_wsex.bed\");\n",
    "repli_tree = ApeLineage.Itree_from_DF_ape_lineage(repli_df, :value);\n",
    "repli_obj = SDmoduleInit.Interval_object(repli_df, repli_tree);\n",
    "\n",
    "repli_deriv_df = Annotate_SDs.Read_repli_recomb_dnase_2_DF(\"/home/abdullae/hossein/UCSC_features/Replit_GM12878_G1b1_hg38_wsex.bed\");\n",
    "repli_deriv_tree = ApeLineage.Itree_from_DF_ape_lineage(repli_deriv_df, :value);\n",
    "repli_deriv_obj = SDmoduleInit.Interval_object(repli_deriv_df, repli_deriv_tree);\n",
    "\n",
    "ctcf_df = Annotate_SDs.Read_genes_and_gaps_2_DF(\"/home/abdullae/hossein/UCSC_features/CTCF_GM78_Ht1_hg38_wsex.bed\");\n",
    "ctcf_tree = ApeLineage.Itree_from_DF_ape_lineage(ctcf_df, nothing);\n",
    "ctcf_obj = SDmoduleInit.Interval_object(ctcf_df, ctcf_tree);\n",
    "\n",
    "recomb_df = Annotate_SDs.Read_repli_recomb_dnase_2_DF(\"/home/abdullae/hossein/UCSC_features/Recomb_rate_hg38_wsex.bed\");\n",
    "recomb_tree = ApeLineage.Itree_from_DF_ape_lineage(recomb_df, :value);\n",
    "recomb_obj = SDmoduleInit.Interval_object(recomb_df, recomb_tree);\n",
    "\n",
    "dnase_df = Annotate_SDs.Read_repli_recomb_dnase_2_DF(\"/home/abdullae/hossein/UCSC_features/DNAse_HS_master_hg38_wsex.bed\");\n",
    "dnase_tree = ApeLineage.Itree_from_DF_ape_lineage(dnase_df, :value);\n",
    "dnase_obj = SDmoduleInit.Interval_object(dnase_df, dnase_tree);\n",
    "\n",
    "repeats_df = Annotate_SDs.Read_repeats_2_DF(\"/home/abdullae/hossein/UCSC_features/Repeats_classes_hg38_wsex.bed\");\n"
   ]
  },
  {
   "cell_type": "code",
   "execution_count": 9,
   "metadata": {},
   "outputs": [],
   "source": [
    "GC_content = load(\"/home/abdullae/hossein/UCSC_features/dict_CG.jld2\");\n",
    "AT_content = load(\"/home/abdullae/hossein/UCSC_features/dict_AT.jld2\");"
   ]
  },
  {
   "cell_type": "code",
   "execution_count": 11,
   "metadata": {},
   "outputs": [
    {
     "data": {
      "text/html": [
       "<p>DataFrameRow (22 columns)</p><table class=\"data-frame\"><thead><tr><th></th><th>chr</th><th>coor_s</th><th>coor_e</th><th>ids</th><th>length</th><th>centro</th><th>telo</th><th>gaps</th><th>genes</th><th>intra_frac</th></tr><tr><th></th><th>String</th><th>Int64</th><th>Int64</th><th>String</th><th>Int64</th><th>Int64</th><th>Int64</th><th>Int64</th><th>Int64</th><th>Float64</th></tr></thead><tbody><tr><th>1</th><td>1</td><td>10000</td><td>207666</td><td>id1</td><td>197666</td><td>0</td><td>0</td><td>0</td><td>0</td><td>0.0</td></tr></tbody></table>"
      ],
      "text/latex": [
       "\\begin{tabular}{r|ccccccccccc}\n",
       "\t& chr & coor\\_s & coor\\_e & ids & length & centro & telo & gaps & genes & intra\\_frac & \\\\\n",
       "\t\\hline\n",
       "\t& String & Int64 & Int64 & String & Int64 & Int64 & Int64 & Int64 & Int64 & Float64 & \\\\\n",
       "\t\\hline\n",
       "\t1 & 1 & 10000 & 207666 & id1 & 197666 & 0 & 0 & 0 & 0 & 0.0 & $\\dots$ \\\\\n",
       "\\end{tabular}\n"
      ],
      "text/plain": [
       "\u001b[1mDataFrameRow\u001b[0m\n",
       "\u001b[1m Row \u001b[0m│\u001b[1m chr    \u001b[0m\u001b[1m coor_s \u001b[0m\u001b[1m coor_e \u001b[0m\u001b[1m ids    \u001b[0m\u001b[1m length \u001b[0m\u001b[1m centro \u001b[0m\u001b[1m telo  \u001b[0m\u001b[1m gaps  \u001b[0m\u001b[1m genes \u001b[0m\u001b[1m in\u001b[0m ⋯\n",
       "\u001b[1m     \u001b[0m│\u001b[90m String \u001b[0m\u001b[90m Int64  \u001b[0m\u001b[90m Int64  \u001b[0m\u001b[90m String \u001b[0m\u001b[90m Int64  \u001b[0m\u001b[90m Int64  \u001b[0m\u001b[90m Int64 \u001b[0m\u001b[90m Int64 \u001b[0m\u001b[90m Int64 \u001b[0m\u001b[90m Fl\u001b[0m ⋯\n",
       "─────┼──────────────────────────────────────────────────────────────────────────\n",
       "   1 │ 1        10000  207666  id1     197666       0      0      0      0     ⋯\n",
       "\u001b[36m                                                              13 columns omitted\u001b[0m"
      ]
     },
     "metadata": {},
     "output_type": "display_data"
    },
    {
     "data": {
      "text/html": [
       "<p>DataFrameRow (22 columns)</p><table class=\"data-frame\"><thead><tr><th></th><th>chr</th><th>coor_s</th><th>coor_e</th><th>ids</th><th>length</th><th>centro</th><th>telo</th><th>gaps</th><th>genes</th><th>intra_frac</th></tr><tr><th></th><th>String</th><th>Int64</th><th>Int64</th><th>String</th><th>Int64</th><th>Int64</th><th>Int64</th><th>Int64</th><th>Int64</th><th>Float64</th></tr></thead><tbody><tr><th>1</th><td>1</td><td>10000</td><td>207666</td><td>id1</td><td>197666</td><td>121818793</td><td>0</td><td>2</td><td>6</td><td>0.206</td></tr></tbody></table>"
      ],
      "text/latex": [
       "\\begin{tabular}{r|ccccccccccc}\n",
       "\t& chr & coor\\_s & coor\\_e & ids & length & centro & telo & gaps & genes & intra\\_frac & \\\\\n",
       "\t\\hline\n",
       "\t& String & Int64 & Int64 & String & Int64 & Int64 & Int64 & Int64 & Int64 & Float64 & \\\\\n",
       "\t\\hline\n",
       "\t1 & 1 & 10000 & 207666 & id1 & 197666 & 121818793 & 0 & 2 & 6 & 0.206 & $\\dots$ \\\\\n",
       "\\end{tabular}\n"
      ],
      "text/plain": [
       "\u001b[1mDataFrameRow\u001b[0m\n",
       "\u001b[1m Row \u001b[0m│\u001b[1m chr    \u001b[0m\u001b[1m coor_s \u001b[0m\u001b[1m coor_e \u001b[0m\u001b[1m ids    \u001b[0m\u001b[1m length \u001b[0m\u001b[1m centro    \u001b[0m\u001b[1m telo  \u001b[0m\u001b[1m gaps  \u001b[0m\u001b[1m genes \u001b[0m\u001b[1m\u001b[0m ⋯\n",
       "\u001b[1m     \u001b[0m│\u001b[90m String \u001b[0m\u001b[90m Int64  \u001b[0m\u001b[90m Int64  \u001b[0m\u001b[90m String \u001b[0m\u001b[90m Int64  \u001b[0m\u001b[90m Int64     \u001b[0m\u001b[90m Int64 \u001b[0m\u001b[90m Int64 \u001b[0m\u001b[90m Int64 \u001b[0m\u001b[90m\u001b[0m ⋯\n",
       "─────┼──────────────────────────────────────────────────────────────────────────\n",
       "   1 │ 1        10000  207666  id1     197666  121818793      0      2      6  ⋯\n",
       "\u001b[36m                                                              13 columns omitted\u001b[0m"
      ]
     },
     "metadata": {},
     "output_type": "display_data"
    },
    {
     "data": {
      "text/plain": [
       "53.38279891014099"
      ]
     },
     "metadata": {},
     "output_type": "display_data"
    },
    {
     "data": {
      "text/plain": [
       "\"Now shuffs:\""
      ]
     },
     "metadata": {},
     "output_type": "display_data"
    },
    {
     "data": {
      "text/html": [
       "<p>DataFrameRow (22 columns)</p><table class=\"data-frame\"><thead><tr><th></th><th>chr</th><th>coor_s</th><th>coor_e</th><th>ids</th><th>length</th><th>centro</th><th>telo</th><th>gaps</th><th>genes</th><th>intra_frac</th></tr><tr><th></th><th>String</th><th>Int64</th><th>Int64</th><th>String</th><th>Int64</th><th>Int64</th><th>Int64</th><th>Int64</th><th>Int64</th><th>Float64</th></tr></thead><tbody><tr><th>1</th><td>2</td><td>158038534</td><td>158236200</td><td>id1</td><td>197666</td><td>0</td><td>0</td><td>0</td><td>0</td><td>0.0</td></tr></tbody></table>"
      ],
      "text/latex": [
       "\\begin{tabular}{r|ccccccccccc}\n",
       "\t& chr & coor\\_s & coor\\_e & ids & length & centro & telo & gaps & genes & intra\\_frac & \\\\\n",
       "\t\\hline\n",
       "\t& String & Int64 & Int64 & String & Int64 & Int64 & Int64 & Int64 & Int64 & Float64 & \\\\\n",
       "\t\\hline\n",
       "\t1 & 2 & 158038534 & 158236200 & id1 & 197666 & 0 & 0 & 0 & 0 & 0.0 & $\\dots$ \\\\\n",
       "\\end{tabular}\n"
      ],
      "text/plain": [
       "\u001b[1mDataFrameRow\u001b[0m\n",
       "\u001b[1m Row \u001b[0m│\u001b[1m chr    \u001b[0m\u001b[1m coor_s    \u001b[0m\u001b[1m coor_e    \u001b[0m\u001b[1m ids    \u001b[0m\u001b[1m length \u001b[0m\u001b[1m centro \u001b[0m\u001b[1m telo  \u001b[0m\u001b[1m gaps  \u001b[0m\u001b[1m gen\u001b[0m ⋯\n",
       "\u001b[1m     \u001b[0m│\u001b[90m String \u001b[0m\u001b[90m Int64     \u001b[0m\u001b[90m Int64     \u001b[0m\u001b[90m String \u001b[0m\u001b[90m Int64  \u001b[0m\u001b[90m Int64  \u001b[0m\u001b[90m Int64 \u001b[0m\u001b[90m Int64 \u001b[0m\u001b[90m Int\u001b[0m ⋯\n",
       "─────┼──────────────────────────────────────────────────────────────────────────\n",
       "   1 │ 2       158038534  158236200  id1     197666       0      0      0      ⋯\n",
       "\u001b[36m                                                              14 columns omitted\u001b[0m"
      ]
     },
     "metadata": {},
     "output_type": "display_data"
    },
    {
     "data": {
      "text/plain": [
       "11.399608135223389"
      ]
     },
     "metadata": {},
     "output_type": "display_data"
    },
    {
     "data": {
      "text/html": [
       "<p>DataFrameRow (22 columns)</p><table class=\"data-frame\"><thead><tr><th></th><th>chr</th><th>coor_s</th><th>coor_e</th><th>ids</th><th>length</th><th>centro</th><th>telo</th><th>gaps</th><th>genes</th></tr><tr><th></th><th>String</th><th>Int64</th><th>Int64</th><th>String</th><th>Int64</th><th>Int64</th><th>Int64</th><th>Int64</th><th>Int64</th></tr></thead><tbody><tr><th>1</th><td>2</td><td>158038534</td><td>158236200</td><td>id1</td><td>197666</td><td>63947977</td><td>83947329</td><td>0</td><td>3</td></tr></tbody></table>"
      ],
      "text/latex": [
       "\\begin{tabular}{r|cccccccccc}\n",
       "\t& chr & coor\\_s & coor\\_e & ids & length & centro & telo & gaps & genes & \\\\\n",
       "\t\\hline\n",
       "\t& String & Int64 & Int64 & String & Int64 & Int64 & Int64 & Int64 & Int64 & \\\\\n",
       "\t\\hline\n",
       "\t1 & 2 & 158038534 & 158236200 & id1 & 197666 & 63947977 & 83947329 & 0 & 3 & $\\dots$ \\\\\n",
       "\\end{tabular}\n"
      ],
      "text/plain": [
       "\u001b[1mDataFrameRow\u001b[0m\n",
       "\u001b[1m Row \u001b[0m│\u001b[1m chr    \u001b[0m\u001b[1m coor_s    \u001b[0m\u001b[1m coor_e    \u001b[0m\u001b[1m ids    \u001b[0m\u001b[1m length \u001b[0m\u001b[1m centro   \u001b[0m\u001b[1m telo     \u001b[0m\u001b[1m gaps \u001b[0m ⋯\n",
       "\u001b[1m     \u001b[0m│\u001b[90m String \u001b[0m\u001b[90m Int64     \u001b[0m\u001b[90m Int64     \u001b[0m\u001b[90m String \u001b[0m\u001b[90m Int64  \u001b[0m\u001b[90m Int64    \u001b[0m\u001b[90m Int64    \u001b[0m\u001b[90m Int64\u001b[0m ⋯\n",
       "─────┼──────────────────────────────────────────────────────────────────────────\n",
       "   1 │ 2       158038534  158236200  id1     197666  63947977  83947329      0 ⋯\n",
       "\u001b[36m                                                              14 columns omitted\u001b[0m"
      ]
     },
     "metadata": {},
     "output_type": "display_data"
    }
   ],
   "source": [
    "# Adding annotation columns to all dfs\n",
    "\n",
    "Annotate_SDs.add_all_columns!(b.int_DF)\n",
    "\n",
    "for s in steps\n",
    "    Annotate_SDs.add_all_columns!(s);\n",
    "end\n",
    "\n",
    "for s in steps_shuff\n",
    "   Annotate_SDs.add_all_columns!(s) \n",
    "end\n",
    "\n",
    "display(first(b.int_DF))\n",
    "\n",
    "\n",
    "# Most of overalps with the genome annotation happens here (except repeats in the next cell).\n",
    "\n",
    "Annotate_SDs.construct_DF!(b, a, :intra_frac);\n",
    "Annotate_SDs.main_modification(b.int_DF, border, telo_df, centro_df, genes_obj, \n",
    "    cpgisl_obj, dnase_obj, recomb_obj, repli_obj, gaps_obj, ctcf_obj, repli_deriv_obj);\n",
    "Annotate_SDs.modify_dfs_gaps!(b.int_DF, border, 0, cpgisl_obj, dnase_obj, recomb_obj, repli_obj, gaps_obj, ctcf_obj, repli_deriv_obj);\n",
    "display(first(b.int_DF))\n",
    "\n",
    "Annotate_SDs.finzalize_df_cols!(steps, b, border, gaps, telo_df, centro_df, genes_obj,\n",
    "    cpgisl_obj, dnase_obj, recomb_obj, repli_obj, gaps_obj, ctcf_obj, repli_deriv_obj)\n",
    "\n",
    "display(\"Now shuffs:\")\n",
    "display(first(steps_shuff[1]))\n",
    "Annotate_SDs.finzalize_df_cols!(steps_shuff, b, border, gaps_shuff, telo_df, centro_df, genes_obj, \n",
    "    cpgisl_obj, dnase_obj, recomb_obj, repli_obj, gaps_obj, ctcf_obj, repli_deriv_obj)\n",
    "display(first(steps_shuff[1]))"
   ]
  },
  {
   "cell_type": "code",
   "execution_count": 12,
   "metadata": {},
   "outputs": [
    {
     "data": {
      "text/plain": [
       "7.585444927215576"
      ]
     },
     "metadata": {},
     "output_type": "display_data"
    },
    {
     "data": {
      "text/plain": [
       "\"main object annotation is over\""
      ]
     },
     "metadata": {},
     "output_type": "display_data"
    },
    {
     "data": {
      "text/plain": [
       "2.274345874786377"
      ]
     },
     "metadata": {},
     "output_type": "display_data"
    },
    {
     "data": {
      "text/plain": [
       "2.9820151329040527"
      ]
     },
     "metadata": {},
     "output_type": "display_data"
    },
    {
     "data": {
      "text/plain": [
       "2.6920418739318848"
      ]
     },
     "metadata": {},
     "output_type": "display_data"
    },
    {
     "data": {
      "text/plain": [
       "2.2513768672943115"
      ]
     },
     "metadata": {},
     "output_type": "display_data"
    },
    {
     "data": {
      "text/plain": [
       "3.392216920852661"
      ]
     },
     "metadata": {},
     "output_type": "display_data"
    },
    {
     "data": {
      "text/plain": [
       "2.258841037750244"
      ]
     },
     "metadata": {},
     "output_type": "display_data"
    },
    {
     "data": {
      "text/plain": [
       "2.266023874282837"
      ]
     },
     "metadata": {},
     "output_type": "display_data"
    },
    {
     "data": {
      "text/plain": [
       "3.698322057723999"
      ]
     },
     "metadata": {},
     "output_type": "display_data"
    },
    {
     "data": {
      "text/plain": [
       "2.260500192642212"
      ]
     },
     "metadata": {},
     "output_type": "display_data"
    },
    {
     "data": {
      "text/plain": [
       "2.285522937774658"
      ]
     },
     "metadata": {},
     "output_type": "display_data"
    },
    {
     "data": {
      "text/plain": [
       "3.661562919616699"
      ]
     },
     "metadata": {},
     "output_type": "display_data"
    },
    {
     "data": {
      "text/plain": [
       "2.264639139175415"
      ]
     },
     "metadata": {},
     "output_type": "display_data"
    },
    {
     "data": {
      "text/plain": [
       "3.356276035308838"
      ]
     },
     "metadata": {},
     "output_type": "display_data"
    },
    {
     "data": {
      "text/plain": [
       "2.2553138732910156"
      ]
     },
     "metadata": {},
     "output_type": "display_data"
    },
    {
     "data": {
      "text/plain": [
       "8.247975826263428"
      ]
     },
     "metadata": {},
     "output_type": "display_data"
    },
    {
     "data": {
      "text/plain": [
       "2.2069170475006104"
      ]
     },
     "metadata": {},
     "output_type": "display_data"
    },
    {
     "data": {
      "text/plain": [
       "3.546337127685547"
      ]
     },
     "metadata": {},
     "output_type": "display_data"
    },
    {
     "data": {
      "text/plain": [
       "2.2590219974517822"
      ]
     },
     "metadata": {},
     "output_type": "display_data"
    },
    {
     "data": {
      "text/plain": [
       "3.4362590312957764"
      ]
     },
     "metadata": {},
     "output_type": "display_data"
    },
    {
     "data": {
      "text/plain": [
       "2.21199893951416"
      ]
     },
     "metadata": {},
     "output_type": "display_data"
    },
    {
     "data": {
      "text/plain": [
       "2.079477071762085"
      ]
     },
     "metadata": {},
     "output_type": "display_data"
    },
    {
     "data": {
      "text/plain": [
       "3.6531269550323486"
      ]
     },
     "metadata": {},
     "output_type": "display_data"
    },
    {
     "data": {
      "text/plain": [
       "2.077155828475952"
      ]
     },
     "metadata": {},
     "output_type": "display_data"
    },
    {
     "data": {
      "text/plain": [
       "2.071782112121582"
      ]
     },
     "metadata": {},
     "output_type": "display_data"
    },
    {
     "data": {
      "text/plain": [
       "2.838488817214966"
      ]
     },
     "metadata": {},
     "output_type": "display_data"
    },
    {
     "data": {
      "text/plain": [
       "2.082036018371582"
      ]
     },
     "metadata": {},
     "output_type": "display_data"
    },
    {
     "data": {
      "text/plain": [
       "2.0812180042266846"
      ]
     },
     "metadata": {},
     "output_type": "display_data"
    },
    {
     "data": {
      "text/plain": [
       "3.071263074874878"
      ]
     },
     "metadata": {},
     "output_type": "display_data"
    },
    {
     "data": {
      "text/plain": [
       "2.101677894592285"
      ]
     },
     "metadata": {},
     "output_type": "display_data"
    },
    {
     "data": {
      "text/plain": [
       "2.0672130584716797"
      ]
     },
     "metadata": {},
     "output_type": "display_data"
    },
    {
     "data": {
      "text/plain": [
       "3.105808973312378"
      ]
     },
     "metadata": {},
     "output_type": "display_data"
    },
    {
     "data": {
      "text/plain": [
       "2.0728230476379395"
      ]
     },
     "metadata": {},
     "output_type": "display_data"
    },
    {
     "data": {
      "text/plain": [
       "2.0934479236602783"
      ]
     },
     "metadata": {},
     "output_type": "display_data"
    },
    {
     "data": {
      "text/plain": [
       "3.106445074081421"
      ]
     },
     "metadata": {},
     "output_type": "display_data"
    },
    {
     "data": {
      "text/plain": [
       "2.9843780994415283"
      ]
     },
     "metadata": {},
     "output_type": "display_data"
    },
    {
     "data": {
      "text/plain": [
       "\"shifted dfs annotation is over\""
      ]
     },
     "metadata": {},
     "output_type": "display_data"
    },
    {
     "data": {
      "text/plain": [
       "6.553369998931885"
      ]
     },
     "metadata": {},
     "output_type": "display_data"
    },
    {
     "data": {
      "text/plain": [
       "2.1444530487060547"
      ]
     },
     "metadata": {},
     "output_type": "display_data"
    },
    {
     "data": {
      "text/plain": [
       "3.692193031311035"
      ]
     },
     "metadata": {},
     "output_type": "display_data"
    },
    {
     "data": {
      "text/plain": [
       "2.3001508712768555"
      ]
     },
     "metadata": {},
     "output_type": "display_data"
    },
    {
     "data": {
      "text/plain": [
       "2.463730812072754"
      ]
     },
     "metadata": {},
     "output_type": "display_data"
    },
    {
     "data": {
      "text/plain": [
       "3.3002800941467285"
      ]
     },
     "metadata": {},
     "output_type": "display_data"
    },
    {
     "data": {
      "text/plain": [
       "2.267817974090576"
      ]
     },
     "metadata": {},
     "output_type": "display_data"
    },
    {
     "data": {
      "text/plain": [
       "3.5448999404907227"
      ]
     },
     "metadata": {},
     "output_type": "display_data"
    },
    {
     "data": {
      "text/plain": [
       "2.2915210723876953"
      ]
     },
     "metadata": {},
     "output_type": "display_data"
    },
    {
     "data": {
      "text/plain": [
       "2.2555248737335205"
      ]
     },
     "metadata": {},
     "output_type": "display_data"
    },
    {
     "data": {
      "text/plain": [
       "\"shuffled dfs annotation is over\""
      ]
     },
     "metadata": {},
     "output_type": "display_data"
    }
   ],
   "source": [
    "# Repeats annotation part (may take long on the local computer)\n",
    "\n",
    "Annotate_SDs.go_thru_thru!(b.int_DF, repeats_df, border, 0);\n",
    "display(\"main object annotation is over\")\n",
    "\n",
    "for (i, s) in enumerate(steps)\n",
    "    Annotate_SDs.go_thru_thru!(s, repeats_df, border, gaps[i]);\n",
    "end\n",
    "display(\"shifted dfs annotation is over\")\n",
    "\n",
    "for (i, s) in enumerate(steps_shuff)\n",
    "   Annotate_SDs.go_thru_thru!(s, repeats_df, border, gaps_shuff[i])\n",
    "end\n",
    "display(\"shuffled dfs annotation is over\")\n"
   ]
  },
  {
   "cell_type": "code",
   "execution_count": 13,
   "metadata": {},
   "outputs": [
    {
     "data": {
      "text/plain": [
       "\"done\""
      ]
     },
     "metadata": {},
     "output_type": "display_data"
    }
   ],
   "source": [
    "# Adds information on G/C content\n",
    "\n",
    "Annotate_SDs.GC_flanks_measure!(b.int_DF, GC_content, AT_content)\n",
    "\n",
    "for (i, s) in enumerate(steps)\n",
    "    Annotate_SDs.GC_flanks_measure!(s, GC_content, AT_content)\n",
    "end\n",
    "\n",
    "for (i, s) in enumerate(steps_shuff)\n",
    "    Annotate_SDs.GC_flanks_measure!(s, GC_content, AT_content);\n",
    "end\n",
    "display(\"done\")"
   ]
  },
  {
   "cell_type": "code",
   "execution_count": 20,
   "metadata": {},
   "outputs": [],
   "source": [
    "rep_obj, recomb_obj, dnase_obj, genes_obj = nothing, nothing, nothing, nothing;\n",
    "gaps_obj, cpgisl_obj, ctcf_obj = nothing, nothing, nothing;\n",
    "repli_deriv_obj, AT_content, GC_content = nothing, nothing, nothing;"
   ]
  },
  {
   "cell_type": "code",
   "execution_count": 19,
   "metadata": {},
   "outputs": [
    {
     "name": "stdout",
     "output_type": "stream",
     "text": [
      "\u001b[1m3×67 DataFrame\u001b[0m\n",
      "\u001b[1m Row \u001b[0m│\u001b[1m chr    \u001b[0m\u001b[1m coor_s \u001b[0m\u001b[1m coor_e \u001b[0m\u001b[1m ids    \u001b[0m\u001b[1m length \u001b[0m\u001b[1m centro    \u001b[0m\u001b[1m telo   \u001b[0m\u001b[1m gaps  \u001b[0m\u001b[1m genes \u001b[0m\u001b[1m intra_frac \u001b[0m\u001b[1m cpgisl_in \u001b[0m\u001b[1m cpgisl_bor \u001b[0m\u001b[1m ctcf  \u001b[0m\u001b[1m repli_in \u001b[0m\u001b[1m repli_bor \u001b[0m\u001b[1m repli_bor_deriv \u001b[0m\u001b[1m repli_deriv \u001b[0m\u001b[1m repli_vari \u001b[0m\u001b[1m recomb_in \u001b[0m\u001b[1m recomb_bor \u001b[0m\u001b[1m dnase_in \u001b[0m\u001b[1m dnase_bor \u001b[0m\u001b[1m DNA_l \u001b[0m\u001b[1m LINE_l \u001b[0m\u001b[1m LTR_l \u001b[0m\u001b[1m SINE_l \u001b[0m\u001b[1m Low_complexity_l \u001b[0m\u001b[1m Retroposon_l \u001b[0m\u001b[1m Satellite_l \u001b[0m\u001b[1m Simple_repeat_l \u001b[0m\u001b[1m rRNA_l \u001b[0m\u001b[1m snRNA_l \u001b[0m\u001b[1m scRNA_l \u001b[0m\u001b[1m srpRNA_l \u001b[0m\u001b[1m tRNA_l \u001b[0m\u001b[1m RC_l  \u001b[0m\u001b[1m DNA_r \u001b[0m\u001b[1m LINE_r \u001b[0m\u001b[1m LTR_r \u001b[0m\u001b[1m SINE_r \u001b[0m\u001b[1m Low_complexity_r \u001b[0m\u001b[1m Retroposon_r \u001b[0m\u001b[1m Satellite_r \u001b[0m\u001b[1m Simple_repeat_r \u001b[0m\u001b[1m rRNA_r \u001b[0m\u001b[1m snRNA_r \u001b[0m\u001b[1m scRNA_r \u001b[0m\u001b[1m srpRNA_r \u001b[0m\u001b[1m tRNA_r \u001b[0m\u001b[1m RC_r  \u001b[0m\u001b[1m L1_s_l \u001b[0m\u001b[1m L2_s_l \u001b[0m\u001b[1m MIR_s_l \u001b[0m\u001b[1m Alu_s_l \u001b[0m\u001b[1m Satellite_s_l \u001b[0m\u001b[1m L1_s_r \u001b[0m\u001b[1m L2_s_r \u001b[0m\u001b[1m MIR_s_r \u001b[0m\u001b[1m Alu_s_r \u001b[0m\u001b[1m Satellite_s_r \u001b[0m\u001b[1m used_coor_l_s \u001b[0m\u001b[1m used_coor_l_e \u001b[0m\u001b[1m used_coor_r_s \u001b[0m\u001b[1m used_coor_r_e \u001b[0m\u001b[1m CG_frac_l \u001b[0m\u001b[1m CG_frac_r \u001b[0m\u001b[1m CG_frac_in \u001b[0m\n",
      "\u001b[1m     \u001b[0m│\u001b[90m String \u001b[0m\u001b[90m Int64  \u001b[0m\u001b[90m Int64  \u001b[0m\u001b[90m String \u001b[0m\u001b[90m Int64  \u001b[0m\u001b[90m Int64     \u001b[0m\u001b[90m Int64  \u001b[0m\u001b[90m Int64 \u001b[0m\u001b[90m Int64 \u001b[0m\u001b[90m Float64    \u001b[0m\u001b[90m Int64     \u001b[0m\u001b[90m Int64      \u001b[0m\u001b[90m Int64 \u001b[0m\u001b[90m Float64  \u001b[0m\u001b[90m Float64   \u001b[0m\u001b[90m Float64         \u001b[0m\u001b[90m Float64     \u001b[0m\u001b[90m Float64    \u001b[0m\u001b[90m Float64   \u001b[0m\u001b[90m Float64    \u001b[0m\u001b[90m Float64  \u001b[0m\u001b[90m Float64   \u001b[0m\u001b[90m Int64 \u001b[0m\u001b[90m Int64  \u001b[0m\u001b[90m Int64 \u001b[0m\u001b[90m Int64  \u001b[0m\u001b[90m Int64            \u001b[0m\u001b[90m Int64        \u001b[0m\u001b[90m Int64       \u001b[0m\u001b[90m Int64           \u001b[0m\u001b[90m Int64  \u001b[0m\u001b[90m Int64   \u001b[0m\u001b[90m Int64   \u001b[0m\u001b[90m Int64    \u001b[0m\u001b[90m Int64  \u001b[0m\u001b[90m Int64 \u001b[0m\u001b[90m Int64 \u001b[0m\u001b[90m Int64  \u001b[0m\u001b[90m Int64 \u001b[0m\u001b[90m Int64  \u001b[0m\u001b[90m Int64            \u001b[0m\u001b[90m Int64        \u001b[0m\u001b[90m Int64       \u001b[0m\u001b[90m Int64           \u001b[0m\u001b[90m Int64  \u001b[0m\u001b[90m Int64   \u001b[0m\u001b[90m Int64   \u001b[0m\u001b[90m Int64    \u001b[0m\u001b[90m Int64  \u001b[0m\u001b[90m Int64 \u001b[0m\u001b[90m Int64  \u001b[0m\u001b[90m Int64  \u001b[0m\u001b[90m Int64   \u001b[0m\u001b[90m Int64   \u001b[0m\u001b[90m Int64         \u001b[0m\u001b[90m Int64  \u001b[0m\u001b[90m Int64  \u001b[0m\u001b[90m Int64   \u001b[0m\u001b[90m Int64   \u001b[0m\u001b[90m Int64         \u001b[0m\u001b[90m Int64         \u001b[0m\u001b[90m Int64         \u001b[0m\u001b[90m Int64         \u001b[0m\u001b[90m Int64         \u001b[0m\u001b[90m Float64   \u001b[0m\u001b[90m Float64   \u001b[0m\u001b[90m Float64    \u001b[0m\n",
      "─────┼────────────────────────────────────────────────────────────────────────────────────────────────────────────────────────────────────────────────────────────────────────────────────────────────────────────────────────────────────────────────────────────────────────────────────────────────────────────────────────────────────────────────────────────────────────────────────────────────────────────────────────────────────────────────────────────────────────────────────────────────────────────────────────────────────────────────────────────────────────────────────────────────────────────────────────────────────────────────────────────────────────────────────────────────────────────────────────────\n",
      "   1 │ 1        10000  207666  id1     197666  121818793       0      2      6       0.206          3           0      0    23.697     21.098              0.0       31.0        12.717      1.306       1.306    18.837     39.412      0       0      0       0                 0             0            0                1       0        0        0         0       0      0      1       0      0       0                 0             0            0                0       0        0        0         0       0      0       0       0        0        0              0       0       0        0        0              0           9950          10000         207666         207716        0.0        0.0    0.443708\n",
      "   2 │ 1       257666  297956  id2      40290  121728503  247666      2      0       0.208          0           0      0    29.531     21.098              0.0       13.0         4.458      1.306       1.306    29.449     39.412      0       0      0       0                 0             0            0                0       0        0        0         0       0      0      0       0      0       1                 0             0            0                0       0        0        0         0       0      0       0       0        0        0              0       0       0        0        1              0         257616         257666         297956         298006        0.0        0.5    0.391412\n",
      "   3 │ 1       347968  535988  id3     188020  121490471  337968      2      1       0.229          3           0      0    20.982     21.098              0.0        3.885       1.31       1.306       1.306    31.596     39.412      0       0      0       0                 0             0            0                0       0        0        0         0       0      0      0       0      0       0                 0             0            0                0       0        0        0         0       0      0       0       0        0        0              0       0       0        0        0              0         347918         347968         535988         536038        0.0        0.0    0.429874"
     ]
    }
   ],
   "source": [
    "show(first(b.int_DF, 3), allcols=true)"
   ]
  },
  {
   "cell_type": "code",
   "execution_count": 21,
   "metadata": {},
   "outputs": [],
   "source": [
    "# save results in the csv format\n",
    "\n",
    "using CSV\n",
    "\n",
    "for (i, s) in enumerate(steps)\n",
    "    q = gaps[i]\n",
    "    CSV.write(\"../outputs/annotated/out_df_ws_jumps$q.csv\", s)\n",
    "end\n",
    "\n",
    "for (i, s) in enumerate(steps_shuff)\n",
    "    CSV.write(\"../outputs/annotated/out_df_shuff_$i.csv\", s)\n",
    "end"
   ]
  },
  {
   "cell_type": "code",
   "execution_count": null,
   "metadata": {},
   "outputs": [],
   "source": []
  },
  {
   "cell_type": "markdown",
   "metadata": {},
   "source": [
    "# Build the MST of dupications + Sharp borders test"
   ]
  },
  {
   "cell_type": "code",
   "execution_count": 340,
   "metadata": {},
   "outputs": [
    {
     "data": {
      "text/plain": [
       "\"done\""
      ]
     },
     "metadata": {},
     "output_type": "display_data"
    }
   ],
   "source": [
    "# Weights assignment. Weights are proportional to the percantage of shared edges.\n",
    "# For test reasons one may assign weights and shuffle them.\n",
    "\n",
    "MST_from_SD.assign_weights_edges!(graph_obj.mg, comp=\"normal_noise\");\n",
    "MST_from_SD.assign_weights_edges!(graph_obj2.mg, comp=\"normal_noise\");\n",
    "#assign_weights_edges!(graph_obj2.mg, \"shuffle\");\n",
    "display(\"done\")"
   ]
  },
  {
   "cell_type": "code",
   "execution_count": 341,
   "metadata": {},
   "outputs": [],
   "source": [
    "# Finding the MST of primary duplications\n",
    "\n",
    "n_deg, ids_hui, edg_lis = MST_from_SD.graph_nosec_from_graph(graph_obj.mg, comp=\"mst_krus\")\n",
    "b.int_DF[!, :jumps] = zeros(Int64, size(b.int_DF)[1])\n",
    "\n",
    "for (i, val) in enumerate(ids_hui)\n",
    "    b.int_DF[b.int_DF[!,:ids] .== val, :jumps] .= n_deg[i] \n",
    "end\n"
   ]
  },
  {
   "cell_type": "code",
   "execution_count": 270,
   "metadata": {},
   "outputs": [
    {
     "data": {
      "text/plain": [
       "0.0798611111111111"
      ]
     },
     "metadata": {},
     "output_type": "display_data"
    },
    {
     "data": {
      "text/plain": [
       "\"percantage of random permutations with less sharp borders:\""
      ]
     },
     "metadata": {},
     "output_type": "display_data"
    },
    {
     "data": {
      "text/plain": [
       "0.0"
      ]
     },
     "metadata": {},
     "output_type": "display_data"
    },
    {
     "data": {
      "text/plain": [
       "0.08602150537634409"
      ]
     },
     "metadata": {},
     "output_type": "display_data"
    },
    {
     "data": {
      "text/plain": [
       "\"percantage of random permutations with less sharp borders:\""
      ]
     },
     "metadata": {},
     "output_type": "display_data"
    },
    {
     "data": {
      "text/plain": [
       "0.0"
      ]
     },
     "metadata": {},
     "output_type": "display_data"
    },
    {
     "data": {
      "image/png": "[encoded data removed]",
      "text/plain": [
       "PyPlot.Figure(PyObject <Figure size 600x400 with 1 Axes>)"
      ]
     },
     "metadata": {},
     "output_type": "display_data"
    }
   ],
   "source": [
    "# This cell checks sharp borders distribution in the MST and random samples of edges\n",
    "# all edges of the giant component are analyzed + only those without assembly gaps at flanks\n",
    "\n",
    "using Distributions, StatsPlots\n",
    "\n",
    "p = plot(xlims = (0.05, 0.25), legendfont=font(9))\n",
    "val, out_lis = MST_from_SD.test_sharpness_distribution(graph_obj.mg, graph_obj2.mg,\n",
    "    edg_lis, 10000, \"sharp edges\");\n",
    "density!(p, out_lis, label=\"Edges sample (from all)\", show=true, color=1, grid=false);\n",
    "plot!(p, [val, val], [16.0, 1.5], arrow=arrow(:closed, 0.5), color=1, label=false);\n",
    "annotate!([val], [19.0], text(\"% sharp MST\\n(p < 1e-4)\", ArndtLabTheme.arndtlab_palette[1], :center, 9));\n",
    "\n",
    "ids_sharp = b.int_DF[b.int_DF[!, \"gaps\"] .!= 0.0, \"ids\"]\n",
    "val, out_lis = MST_from_SD.test_sharpness_distribution(graph_obj.mg, graph_obj2.mg,\n",
    "    edg_lis, 10000, \"sharp edges\"; nodes_out=ids_sharp);\n",
    "density!(p, out_lis, label=\"Edges sample (no gaps)\", show=true, color=2, grid=false);\n",
    "plot!(p, [val, val], [10.0, 1.5], arrow=arrow(:closed, 0.5), color=2, label=false);\n",
    "annotate!([val], [13.0], text(\"% sharp MST\\nno gaps (p < 1e-4)\", ArndtLabTheme.arndtlab_palette[2], :center, 9));\n"
   ]
  },
  {
   "cell_type": "code",
   "execution_count": 382,
   "metadata": {},
   "outputs": [
    {
     "data": {
      "text/plain": [
       "0.032639038007300836"
      ]
     },
     "metadata": {},
     "output_type": "display_data"
    },
    {
     "data": {
      "text/plain": [
       "\"percantage of random permutations with higher fraction of hihgh identity edges:\""
      ]
     },
     "metadata": {},
     "output_type": "display_data"
    },
    {
     "data": {
      "text/plain": [
       "0.009399999999999964"
      ]
     },
     "metadata": {},
     "output_type": "display_data"
    },
    {
     "data": {
      "text/plain": [
       "0.02585604472396925"
      ]
     },
     "metadata": {},
     "output_type": "display_data"
    },
    {
     "data": {
      "text/plain": [
       "\"percantage of random permutations with higher fraction of hihgh identity edges:\""
      ]
     },
     "metadata": {},
     "output_type": "display_data"
    },
    {
     "data": {
      "text/plain": [
       "0.0"
      ]
     },
     "metadata": {},
     "output_type": "display_data"
    },
    {
     "data": {
      "image/png": "[encoded data removed]",
      "text/plain": [
       "PyPlot.Figure(PyObject <Figure size 600x400 with 1 Axes>)"
      ]
     },
     "metadata": {},
     "output_type": "display_data"
    }
   ],
   "source": [
    "p = plot(legendfont=font(9))\n",
    "val, out_lis = MST_from_SD.test_sharpness_distribution(graph_obj.mg, graph_obj2.mg,\n",
    "    edg_lis, 10000, \"identity\"; edges_ident=graph_obj.edges_ident);\n",
    "density!(p, out_lis, label=\"Edges sample (from all)\", show=true, color=1, grid=false);\n",
    "plot!(p, [val, val], [39.0, 1.5], arrow=arrow(:closed, 0.5), color=1, label=false);\n",
    "annotate!([val], [49.0], text(\"% high identitity\\n(p = 0.01)\", ArndtLabTheme.arndtlab_palette[1], :center, 9));\n",
    "\n",
    "val, out_lis = MST_from_SD.test_sharpness_distribution(graph_obj.mg, graph_obj2.mg,\n",
    "    edg_lis, 10000, \"identity\"; edges_ident=graph_obj.edges_ident, nodes_out=ids_sharp);\n",
    "density!(p, out_lis, label=\"Edges sample (no gaps)\", show=true, color=2, grid=false);\n",
    "plot!(p, [val, val], [25.0, 1.5], arrow=arrow(:closed, 0.5), color=2, label=false);\n",
    "annotate!([val], [35.0], text(\"% high identitity\\n(p < 1e-4)\", ArndtLabTheme.arndtlab_palette[2], :center, 9));\n"
   ]
  },
  {
   "cell_type": "code",
   "execution_count": 22,
   "metadata": {},
   "outputs": [
    {
     "data": {
      "text/plain": [
       "1549"
      ]
     },
     "metadata": {},
     "output_type": "display_data"
    },
    {
     "data": {
      "text/plain": [
       "1035"
      ]
     },
     "metadata": {},
     "output_type": "display_data"
    }
   ],
   "source": [
    "# Reassign weights in order to redo MST search. Now we set the weights\n",
    "# such that it is highly unlikely to go through the sharp (\"suspicious\") edges without assembly gaps\n",
    "# Then do find MST => number of jumps for each duplicated region\n",
    "\n",
    "using MetaGraphs\n",
    "\n",
    "dif = collect(edges(difference(graph_obj.mg, graph_obj2.mg)))\n",
    "display(length(dif))\n",
    "ids = b.int_DF[b.int_DF[!, \"gaps\"] .> 0.0, \"ids\"]\n",
    "\n",
    "suspicious_edges = []\n",
    "for e in dif\n",
    "    if !((get_prop(graph_obj.mg, e.src, :id) in ids) | (get_prop(graph_obj.mg, e.dst, :id) in ids))\n",
    "        append!(suspicious_edges, [e])\n",
    "    end\n",
    "end\n",
    "display(length(suspicious_edges))\n",
    "\n",
    "N = 10\n",
    "b.int_DF[!, :jumps] = zeros(Float64, size(b.int_DF)[1])\n",
    "for i in 1:N\n",
    "    MST_from_SD.assign_weights_edges!(graph_obj.mg, comp=\"sharp_out\", suspicious_edges=suspicious_edges);\n",
    "    n_deg, ids_hui, edg_lis = MST_from_SD.graph_nosec_from_graph(graph_obj.mg, comp=\"mst_krus\")\n",
    "    for (i, val) in enumerate(ids_hui)\n",
    "        b.int_DF[b.int_DF[!,:ids] .== val, :jumps] .+= n_deg[i]\n",
    "    end\n",
    "end\n",
    "\n",
    "b.int_DF[!, :jumps] = round.(b.int_DF[!, :jumps]/N);"
   ]
  },
  {
   "cell_type": "code",
   "execution_count": 24,
   "metadata": {},
   "outputs": [
    {
     "data": {
      "text/html": [
       "<table class=\"data-frame\"><thead><tr><th></th><th>chr</th><th>coor_s</th><th>coor_e</th><th>ids</th><th>length</th><th>gaps</th></tr><tr><th></th><th>String</th><th>Int64</th><th>Int64</th><th>String</th><th>Int64</th><th>Int64</th></tr></thead><tbody><p>6,656 rows × 6 columns</p><tr><th>1</th><td>1</td><td>10000</td><td>207666</td><td>id1</td><td>197666</td><td>2</td></tr><tr><th>2</th><td>1</td><td>257666</td><td>297956</td><td>id2</td><td>40290</td><td>2</td></tr><tr><th>3</th><td>1</td><td>347968</td><td>535988</td><td>id3</td><td>188020</td><td>2</td></tr><tr><th>4</th><td>1</td><td>585988</td><td>817292</td><td>id4</td><td>231304</td><td>1</td></tr><tr><th>5</th><td>1</td><td>817367</td><td>821400</td><td>id5</td><td>4033</td><td>0</td></tr><tr><th>6</th><td>1</td><td>823659</td><td>867135</td><td>id6</td><td>43476</td><td>0</td></tr><tr><th>7</th><td>1</td><td>867192</td><td>872507</td><td>id7</td><td>5315</td><td>0</td></tr><tr><th>8</th><td>1</td><td>872879</td><td>898701</td><td>id8</td><td>25822</td><td>0</td></tr><tr><th>9</th><td>1</td><td>955921</td><td>960557</td><td>id9</td><td>4636</td><td>0</td></tr><tr><th>10</th><td>1</td><td>1444514</td><td>1448930</td><td>id11</td><td>4416</td><td>0</td></tr><tr><th>11</th><td>1</td><td>1464079</td><td>1496342</td><td>id12</td><td>32263</td><td>0</td></tr><tr><th>12</th><td>1</td><td>1496432</td><td>1502033</td><td>id13</td><td>5601</td><td>0</td></tr><tr><th>13</th><td>1</td><td>1504522</td><td>1534825</td><td>id14</td><td>30303</td><td>0</td></tr><tr><th>14</th><td>1</td><td>1632457</td><td>1665030</td><td>id15</td><td>32573</td><td>0</td></tr><tr><th>15</th><td>1</td><td>1666823</td><td>1677750</td><td>id16</td><td>10927</td><td>0</td></tr><tr><th>16</th><td>1</td><td>1685863</td><td>1699583</td><td>id17</td><td>13720</td><td>0</td></tr><tr><th>17</th><td>1</td><td>1699616</td><td>1730936</td><td>id18</td><td>31320</td><td>0</td></tr><tr><th>18</th><td>1</td><td>1733195</td><td>1740585</td><td>id19</td><td>7390</td><td>0</td></tr><tr><th>19</th><td>1</td><td>1740642</td><td>1752193</td><td>id20</td><td>11551</td><td>0</td></tr><tr><th>20</th><td>1</td><td>2548425</td><td>2550688</td><td>id21</td><td>2263</td><td>0</td></tr><tr><th>21</th><td>1</td><td>2551369</td><td>2554047</td><td>id22</td><td>2678</td><td>0</td></tr><tr><th>22</th><td>1</td><td>2567635</td><td>2570293</td><td>id23</td><td>2658</td><td>0</td></tr><tr><th>23</th><td>1</td><td>2576603</td><td>2578586</td><td>id24</td><td>1983</td><td>0</td></tr><tr><th>24</th><td>1</td><td>2652036</td><td>2702781</td><td>id25</td><td>50745</td><td>1</td></tr><tr><th>25</th><td>1</td><td>2746297</td><td>2777361</td><td>id26</td><td>31064</td><td>1</td></tr><tr><th>26</th><td>1</td><td>4043198</td><td>4045223</td><td>id27</td><td>2025</td><td>0</td></tr><tr><th>27</th><td>1</td><td>5654881</td><td>5657240</td><td>id28</td><td>2359</td><td>0</td></tr><tr><th>28</th><td>1</td><td>5665835</td><td>5673788</td><td>id29</td><td>7953</td><td>0</td></tr><tr><th>29</th><td>1</td><td>6185028</td><td>6186818</td><td>id30</td><td>1790</td><td>0</td></tr><tr><th>30</th><td>1</td><td>6427660</td><td>6459417</td><td>id31</td><td>31757</td><td>0</td></tr><tr><th>&vellip;</th><td>&vellip;</td><td>&vellip;</td><td>&vellip;</td><td>&vellip;</td><td>&vellip;</td><td>&vellip;</td></tr></tbody></table>"
      ],
      "text/latex": [
       "\\begin{tabular}{r|cccccc}\n",
       "\t& chr & coor\\_s & coor\\_e & ids & length & gaps\\\\\n",
       "\t\\hline\n",
       "\t& String & Int64 & Int64 & String & Int64 & Int64\\\\\n",
       "\t\\hline\n",
       "\t1 & 1 & 10000 & 207666 & id1 & 197666 & 2 \\\\\n",
       "\t2 & 1 & 257666 & 297956 & id2 & 40290 & 2 \\\\\n",
       "\t3 & 1 & 347968 & 535988 & id3 & 188020 & 2 \\\\\n",
       "\t4 & 1 & 585988 & 817292 & id4 & 231304 & 1 \\\\\n",
       "\t5 & 1 & 817367 & 821400 & id5 & 4033 & 0 \\\\\n",
       "\t6 & 1 & 823659 & 867135 & id6 & 43476 & 0 \\\\\n",
       "\t7 & 1 & 867192 & 872507 & id7 & 5315 & 0 \\\\\n",
       "\t8 & 1 & 872879 & 898701 & id8 & 25822 & 0 \\\\\n",
       "\t9 & 1 & 955921 & 960557 & id9 & 4636 & 0 \\\\\n",
       "\t10 & 1 & 1444514 & 1448930 & id11 & 4416 & 0 \\\\\n",
       "\t11 & 1 & 1464079 & 1496342 & id12 & 32263 & 0 \\\\\n",
       "\t12 & 1 & 1496432 & 1502033 & id13 & 5601 & 0 \\\\\n",
       "\t13 & 1 & 1504522 & 1534825 & id14 & 30303 & 0 \\\\\n",
       "\t14 & 1 & 1632457 & 1665030 & id15 & 32573 & 0 \\\\\n",
       "\t15 & 1 & 1666823 & 1677750 & id16 & 10927 & 0 \\\\\n",
       "\t16 & 1 & 1685863 & 1699583 & id17 & 13720 & 0 \\\\\n",
       "\t17 & 1 & 1699616 & 1730936 & id18 & 31320 & 0 \\\\\n",
       "\t18 & 1 & 1733195 & 1740585 & id19 & 7390 & 0 \\\\\n",
       "\t19 & 1 & 1740642 & 1752193 & id20 & 11551 & 0 \\\\\n",
       "\t20 & 1 & 2548425 & 2550688 & id21 & 2263 & 0 \\\\\n",
       "\t21 & 1 & 2551369 & 2554047 & id22 & 2678 & 0 \\\\\n",
       "\t22 & 1 & 2567635 & 2570293 & id23 & 2658 & 0 \\\\\n",
       "\t23 & 1 & 2576603 & 2578586 & id24 & 1983 & 0 \\\\\n",
       "\t24 & 1 & 2652036 & 2702781 & id25 & 50745 & 1 \\\\\n",
       "\t25 & 1 & 2746297 & 2777361 & id26 & 31064 & 1 \\\\\n",
       "\t26 & 1 & 4043198 & 4045223 & id27 & 2025 & 0 \\\\\n",
       "\t27 & 1 & 5654881 & 5657240 & id28 & 2359 & 0 \\\\\n",
       "\t28 & 1 & 5665835 & 5673788 & id29 & 7953 & 0 \\\\\n",
       "\t29 & 1 & 6185028 & 6186818 & id30 & 1790 & 0 \\\\\n",
       "\t30 & 1 & 6427660 & 6459417 & id31 & 31757 & 0 \\\\\n",
       "\t$\\dots$ & $\\dots$ & $\\dots$ & $\\dots$ & $\\dots$ & $\\dots$ & $\\dots$ \\\\\n",
       "\\end{tabular}\n"
      ],
      "text/plain": [
       "\u001b[1m6656×6 DataFrame\u001b[0m\n",
       "\u001b[1m  Row \u001b[0m│\u001b[1m chr    \u001b[0m\u001b[1m coor_s   \u001b[0m\u001b[1m coor_e   \u001b[0m\u001b[1m ids    \u001b[0m\u001b[1m length \u001b[0m\u001b[1m gaps  \u001b[0m\n",
       "\u001b[1m      \u001b[0m│\u001b[90m String \u001b[0m\u001b[90m Int64    \u001b[0m\u001b[90m Int64    \u001b[0m\u001b[90m String \u001b[0m\u001b[90m Int64  \u001b[0m\u001b[90m Int64 \u001b[0m\n",
       "──────┼───────────────────────────────────────────────────\n",
       "    1 │ 1          10000    207666  id1     197666      2\n",
       "    2 │ 1         257666    297956  id2      40290      2\n",
       "    3 │ 1         347968    535988  id3     188020      2\n",
       "    4 │ 1         585988    817292  id4     231304      1\n",
       "    5 │ 1         817367    821400  id5       4033      0\n",
       "    6 │ 1         823659    867135  id6      43476      0\n",
       "    7 │ 1         867192    872507  id7       5315      0\n",
       "    8 │ 1         872879    898701  id8      25822      0\n",
       "    9 │ 1         955921    960557  id9       4636      0\n",
       "   10 │ 1        1444514   1448930  id11      4416      0\n",
       "   11 │ 1        1464079   1496342  id12     32263      0\n",
       "  ⋮   │   ⋮        ⋮         ⋮        ⋮       ⋮       ⋮\n",
       " 6647 │ 22      46615032  46616157  id4354    1125      0\n",
       " 6648 │ 22      46616221  46617437  id4355    1216      0\n",
       " 6649 │ 22      48618772  48620136  id4356    1364      0\n",
       " 6650 │ 22      48620180  48621405  id4357    1225      0\n",
       " 6651 │ 22      48910475  48911620  id4358    1145      0\n",
       " 6652 │ 22      48911634  48912886  id4359    1252      0\n",
       " 6653 │ 22      49383944  49385910  id4360    1966      0\n",
       " 6654 │ 22      49386637  49388496  id4361    1859      0\n",
       " 6655 │ 22      50432257  50442552  id4362   10295      0\n",
       " 6656 │ 22      50740515  50808468  id4363   67953      1\n",
       "\u001b[36m                                         6635 rows omitted\u001b[0m"
      ]
     },
     "execution_count": 24,
     "metadata": {},
     "output_type": "execute_result"
    }
   ],
   "source": [
    "b.int_DF[!, [\"chr\", \"coor_s\", \"coor_e\", \"ids\", \"length\", \"gaps\"]]"
   ]
  },
  {
   "cell_type": "code",
   "execution_count": 25,
   "metadata": {},
   "outputs": [
    {
     "data": {
      "text/plain": [
       "\"../outputs/annotated/out_df_ws_jumps.csv\""
      ]
     },
     "execution_count": 25,
     "metadata": {},
     "output_type": "execute_result"
    }
   ],
   "source": [
    "# Uncomment to save the resulting file\n",
    "\n",
    "using CSV\n",
    "\n",
    "CSV.write(\"../outputs/annotated/out_df_ws_jumps.csv\", b.int_DF)"
   ]
  },
  {
   "cell_type": "code",
   "execution_count": 1,
   "metadata": {},
   "outputs": [
    {
     "data": {
      "text/plain": [
       "1"
      ]
     },
     "execution_count": 1,
     "metadata": {},
     "output_type": "execute_result"
    }
   ],
   "source": [
    "3-2"
   ]
  },
  {
   "cell_type": "markdown",
   "metadata": {},
   "source": [
    "# Test the MST algorithm on PCM simulated networks"
   ]
  },
  {
   "cell_type": "code",
   "execution_count": 169,
   "metadata": {},
   "outputs": [
    {
     "data": {
      "text/plain": [
       "copy_model_bigcomp (generic function with 1 method)"
      ]
     },
     "execution_count": 169,
     "metadata": {},
     "output_type": "execute_result"
    }
   ],
   "source": [
    "# The function with the PCM growth model + additional processes of edges loss and a gene conversion\n",
    "\n",
    "using StatsBase, Distributions, Random, MetaGraphs\n",
    "\n",
    "function copy_model_bigcomp(N::Int64, frac::Float64, degrad_rate::Float64, gc_rate::Float64; seed::Int64=42)\n",
    "    Random.seed!(seed)\n",
    "    d = Normal(degrad_rate, degrad_rate/2)\n",
    "    edg_copy::Array{LightGraphs.SimpleGraphs.SimpleEdge{Int64},1} = []\n",
    "    gr = MetaGraph(complete_graph(2), 1.0)\n",
    "    append!(edg_copy, [Edge(1, 2)])\n",
    "    A = zeros(Float64, 2, 2)\n",
    "    A[1, 2], A[2, 1] = 1.0, 1.0\n",
    "    num_del_edges, num_gc_edges = 0, 0\n",
    "    i = 0\n",
    "    while nv(gr) - length(filter(x -> length(neighbors(gr, x)) == 0, vertices(gr))) < N\n",
    "        i += 1\n",
    "        A = [A zeros(size(A)[1], 1)]\n",
    "        A = [A; zeros(1, size(A)[2])]\n",
    "        weis = Weights(map(x -> neighbors(gr, x) |> length, vertices(gr)))\n",
    "        m_node = StatsBase.sample(vertices(gr), weis)\n",
    "        add_vertex!(gr)\n",
    "        for nei in neighbors(gr, m_node)\n",
    "            if rand() < frac\n",
    "                add_edge!(gr, nei, i+2)\n",
    "                A[nei, i+2], A[i+2, nei] = A[nei, m_node], A[nei, m_node]\n",
    "           end\n",
    "        end\n",
    "        add_edge!(gr, m_node, i+2)\n",
    "        A[m_node, i+2], A[i+2, m_node] = 1.0, 1.0\n",
    "        append!(edg_copy, [Edge(m_node, i+2)])\n",
    "        if degrad_rate > 0.0\n",
    "            B = rand(d, size(A)[1], size(A)[2])\n",
    "            B[B .<= 0.0] .= 0.0\n",
    "            for e in findall(x -> x > 0.0, (A .- B .< 0.9) .& (A .> 0.9))\n",
    "                rem_edge!(gr, e[1], e[2])\n",
    "                num_del_edges += 1\n",
    "            end\n",
    "            A = A .- B\n",
    "            A[A .< 0.9] .= 0.0\n",
    "            inds_edges = findall(x -> x > 0.0, (A .> 0.9))\n",
    "            num = trunc(Int, length(inds_edges)*gc_rate)\n",
    "            gc_edges = StatsBase.sample(inds_edges, Weights(ones(length(inds_edges))), num; replace=false)\n",
    "            for e in gc_edges\n",
    "                A[e[1], e[2]], A[e[2], e[1]] = 1.0, 1.0\n",
    "                num_gc_edges += 1\n",
    "            end\n",
    "        end\n",
    "    end\n",
    "    return gr, edg_copy\n",
    "end\n"
   ]
  },
  {
   "cell_type": "code",
   "execution_count": 34,
   "metadata": {},
   "outputs": [
    {
     "name": "stdout",
     "output_type": "stream",
     "text": [
      "Fraction of edges match (MST Kruskal):0.6170694864048338\n",
      "Fraction of edges match (Random MST):0.15634441087613293\n",
      "Variance explained for MST Kruskal:0.6789221929553845\n",
      "Variance explained for Random MST:0.37431585830763797\n",
      "Variance explained for Simple:0.510747025690327\n",
      "Variance explained for PageRank:0.5651634452629768\n"
     ]
    }
   ],
   "source": [
    "# Run network growth once + compare all primary edges reconstruction strategies\n",
    "# f = 0.37 to make the number of edges proporional to the giamnt component of the original SD network\n",
    "# loss of identity rate = 7.5e-5. This value is set such that ~5% bases are mutated at the end. So that:\n",
    "# All effected bases = 0.000075*L*(1325+1)*1325/2, where L is an average SD length.\n",
    "# Per base probability of being affectd = 0.000075*(1325+1)/2 = 0.05.\n",
    "# gene conversion rate is equal to 3e-4. It leads to ~33% of edges being affected by IGC during the network growth.\n",
    "\n",
    "copy_gr, edg_copy_real = copy_model_bigcomp(1325, 0.37, 0.000075, 0.0003)\n",
    "MST_from_SD.wrapper_MST(copy_gr, edg_copy_real; verbose=true, meanover=10);"
   ]
  },
  {
   "cell_type": "code",
   "execution_count": 35,
   "metadata": {},
   "outputs": [
    {
     "name": "stdout",
     "output_type": "stream",
     "text": [
      "Fraction of edges match (MST Kruskal):0.6163141993957704\n",
      "Fraction of edges match (Random MST):0.15483383685800603\n",
      "Variance explained for MST Kruskal:0.6616987096334149\n",
      "Variance explained for Random MST:0.37064776915387143\n",
      "Variance explained for Simple:0.510747025690327\n",
      "Variance explained for PageRank:0.5651634452629768\n"
     ]
    }
   ],
   "source": [
    "MST_from_SD.wrapper_MST(copy_gr, edg_copy_real; verbose=true, meanover=1);"
   ]
  },
  {
   "cell_type": "code",
   "execution_count": 170,
   "metadata": {},
   "outputs": [
    {
     "data": {
      "text/plain": [
       "\"Fraction of edges match (MST Kruskal): 0.6213746223564954\""
      ]
     },
     "metadata": {},
     "output_type": "display_data"
    },
    {
     "data": {
      "text/plain": [
       "\"Fraction of edges match (Random MST): 0.13481873111782477\""
      ]
     },
     "metadata": {},
     "output_type": "display_data"
    },
    {
     "data": {
      "text/plain": [
       "\"Variance explained for MST Kruskal: 0.6702916386791735\""
      ]
     },
     "metadata": {},
     "output_type": "display_data"
    },
    {
     "data": {
      "text/plain": [
       "\"Variance explained for Random MST: 0.33175345504365555\""
      ]
     },
     "metadata": {},
     "output_type": "display_data"
    },
    {
     "data": {
      "text/plain": [
       "\"Variance explained for Simple: 0.5196971974673189\""
      ]
     },
     "metadata": {},
     "output_type": "display_data"
    },
    {
     "data": {
      "text/plain": [
       "\"Variance explained for PageRank: 0.5543950170268876\""
      ]
     },
     "metadata": {},
     "output_type": "display_data"
    }
   ],
   "source": [
    "# Calculate final values:\n",
    "\n",
    "arr_res = reshape([], 0, 6)\n",
    "\n",
    "for i in 1:10 # Better use 100 iterations, but will take several hours\n",
    "    copy_gr, edg_copy_real = copy_model_bigcomp(1325, 0.37, 0.000075, 0.0003; seed=i)\n",
    "    arr_res = cat(dims=1, arr_res, MST_from_SD.wrapper_MST(copy_gr, edg_copy_real; verbose=false, meanover=10))\n",
    "end\n",
    "\n",
    "ms = mean(arr_res, dims=1)\n",
    "labs = [\"Fraction of edges match (MST Kruskal)\", \"Fraction of edges match (Random MST)\",\n",
    "        \"Variance explained for MST Kruskal\", \"Variance explained for Random MST\",\n",
    "        \"Variance explained for Simple\", \"Variance explained for PageRank\"]\n",
    "\n",
    "for i in 1:6\n",
    "    display(\"$(labs[i]): $(ms[i])\")\n",
    "end"
   ]
  },
  {
   "cell_type": "code",
   "execution_count": 180,
   "metadata": {},
   "outputs": [
    {
     "data": {
      "text/plain": [
       "2"
      ]
     },
     "execution_count": 180,
     "metadata": {},
     "output_type": "execute_result"
    }
   ],
   "source": [
    "5-3"
   ]
  },
  {
   "cell_type": "code",
   "execution_count": null,
   "metadata": {},
   "outputs": [],
   "source": []
  },
  {
   "cell_type": "code",
   "execution_count": null,
   "metadata": {},
   "outputs": [],
   "source": []
  },
  {
   "cell_type": "code",
   "execution_count": null,
   "metadata": {},
   "outputs": [],
   "source": []
  }
 ],
 "metadata": {
  "kernelspec": {
   "display_name": "Julia 1.6.1",
   "language": "julia",
   "name": "julia-1.6"
  },
  "language_info": {
   "file_extension": ".jl",
   "mimetype": "application/julia",
   "name": "julia",
   "version": "1.6.1"
  }
 },
 "nbformat": 4,
 "nbformat_minor": 4
}
