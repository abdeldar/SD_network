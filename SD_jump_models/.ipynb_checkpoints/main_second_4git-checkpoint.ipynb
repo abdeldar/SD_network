{
 "cells": [
  {
   "cell_type": "markdown",
   "metadata": {},
   "source": [
    "# Build SD network"
   ]
  },
  {
   "cell_type": "code",
   "execution_count": 1,
   "metadata": {},
   "outputs": [],
   "source": [
    "using Revise, Plots, ArndtLabTheme, LightGraphs, DataFrames, IntervalTrees\n",
    "pyplot()\n",
    "theme(:arndtlab)\n",
    "\n",
    "includet(\"../modules/modules_SDs.jl\")"
   ]
  },
  {
   "cell_type": "code",
   "execution_count": 2,
   "metadata": {},
   "outputs": [
    {
     "data": {
      "text/plain": [
       "(6791, 4)"
      ]
     },
     "execution_count": 2,
     "metadata": {},
     "output_type": "execute_result"
    }
   ],
   "source": [
    "a = SDmoduleInit.Initialize_SD_object(\"../GRCh38GenomicSuperDup_sort.tab\");\n",
    "b = SDmoduleInit.Initialize_pyr_object(a.int_DF);\n",
    "c, ind_arr, ind_arr2 = SDmoduleInit.Initialize_SD_object(\"../GRCh38GenomicSuperDup_sort.tab\", comp3=\"filter\");\n",
    "size(b.int_DF)"
   ]
  },
  {
   "cell_type": "code",
   "execution_count": 3,
   "metadata": {},
   "outputs": [
    {
     "data": {
      "text/plain": [
       "\"Double edges = 3703 = 0.2308315671362673 of all edges\""
      ]
     },
     "metadata": {},
     "output_type": "display_data"
    },
    {
     "data": {
      "text/plain": [
       "\"Self loops = 269 = 0.040414663461538464 of all nodes (or 0.05940302896632848 without filtering singleton nodes)\""
      ]
     },
     "metadata": {},
     "output_type": "display_data"
    },
    {
     "data": {
      "text/plain": [
       "\"Tandem edges = 1383 = 0.08621119561151976 of all edges and 0.30815508021390375 of all intra\""
      ]
     },
     "metadata": {},
     "output_type": "display_data"
    },
    {
     "data": {
      "text/plain": [
       "\"Intra = 4488 and Inter = 11554 edges\""
      ]
     },
     "metadata": {},
     "output_type": "display_data"
    },
    {
     "data": {
      "text/plain": [
       "{6656, 16042} undirected Int64 metagraph with Float64 weights defined by :weight (default weight 1.0)"
      ]
     },
     "execution_count": 3,
     "metadata": {},
     "output_type": "execute_result"
    }
   ],
   "source": [
    "nex = deepcopy(b)\n",
    "graph_obj = NetworkAnalysis.Initialize_SD_network(b, a.int_DF);\n",
    "graph_obj.mg"
   ]
  },
  {
   "cell_type": "code",
   "execution_count": 4,
   "metadata": {},
   "outputs": [
    {
     "data": {
      "text/plain": [
       "\"Double edges = 2832 = 0.19540467812047196 of all edges\""
      ]
     },
     "metadata": {},
     "output_type": "display_data"
    },
    {
     "data": {
      "text/plain": [
       "\"Self loops = 254 = 0.038161057692307696 of all nodes (or 0.05940302896632848 without filtering singleton nodes)\""
      ]
     },
     "metadata": {},
     "output_type": "display_data"
    },
    {
     "data": {
      "text/plain": [
       "\"Tandem edges = 1305 = 0.09004346926102257 of all edges and 0.313475858755705 of all intra\""
      ]
     },
     "metadata": {},
     "output_type": "display_data"
    },
    {
     "data": {
      "text/plain": [
       "\"Intra = 4163 and Inter = 10330 edges\""
      ]
     },
     "metadata": {},
     "output_type": "display_data"
    },
    {
     "data": {
      "text/plain": [
       "{6656, 14493} undirected Int64 metagraph with Float64 weights defined by :weight (default weight 1.0)"
      ]
     },
     "execution_count": 4,
     "metadata": {},
     "output_type": "execute_result"
    }
   ],
   "source": [
    "graph_obj2 = NetworkAnalysis.Initialize_SD_network(nex, c.int_DF)\n",
    "graph_obj2.mg"
   ]
  },
  {
   "cell_type": "markdown",
   "metadata": {},
   "source": [
    "# Find jumps number for each node"
   ]
  },
  {
   "cell_type": "code",
   "execution_count": 5,
   "metadata": {},
   "outputs": [],
   "source": [
    "using SparseArrays\n",
    "\n",
    "function modify_adj_matrix(graph)\n",
    "    Ad_pr = float(deepcopy(adjacency_matrix(graph)))\n",
    "    for i in vertices(graph)\n",
    "        neis = neighbors(graph, i)\n",
    "        for n in neis\n",
    "            neis2 = neighbors(graph, n)\n",
    "            mat_inds = findall(x -> x in neis, neis2)\n",
    "            wei = (length(mat_inds) + 1)/length(neis)\n",
    "            Ad_pr[i, n] = wei\n",
    "        end\n",
    "    end\n",
    "    Ad_pr = sparse(Matrix(Ad_pr) ./ sum(Ad_pr, dims=2))\n",
    "    return Ad_pr\n",
    "end\n",
    "\n",
    "function dye_propagation(graph; iter=50)\n",
    "    Ad = modify_adj_matrix(graph)\n",
    "    vec = ones(size(Ad)[2])\n",
    "    vecs = reshape(Float64[], size(Ad)[2], 0)\n",
    "\n",
    "    for i in 1:iter\n",
    "        vec = transpose(Ad)*vec\n",
    "        vecs = cat(vecs, vec, dims=2)\n",
    "    end\n",
    "    \n",
    "    return vecs[:, end]\n",
    "end\n",
    "\n",
    "#dye_propagation(graph_obj2.mg);"
   ]
  },
  {
   "cell_type": "code",
   "execution_count": 6,
   "metadata": {},
   "outputs": [
    {
     "data": {
      "text/plain": [
       "assign_weights_edges! (generic function with 1 method)"
      ]
     },
     "execution_count": 6,
     "metadata": {},
     "output_type": "execute_result"
    }
   ],
   "source": [
    "using GraphPlot, MetaGraphs\n",
    "using Distributions\n",
    "\n",
    "\n",
    "function assign_weights_edges!(graph; comp=\"normal\")\n",
    "    cc = connected_components(graph)\n",
    "    cl = map(length, cc)\n",
    "    bws = betweenness_centrality(graph)\n",
    "    for i in vertices(graph)\n",
    "        neis = neighbors(graph, i)\n",
    "        for n in neis\n",
    "            sum_bws = sum(bws[neis])\n",
    "            if sum_bws == 0\n",
    "               sum_bws = 1 \n",
    "            end\n",
    "            neis2 = neighbors(graph, n)\n",
    "            mat_inds = findall(x -> x in neis, neis2)   # findall(x -> (x in neis) && (x != i), neis2)\n",
    "            #if length(mat_inds) > 0\n",
    "            if LightGraphs.weights(graph)[i, n] == 1.0     # depends on specified weight\n",
    "                if comp == \"normal\"\n",
    "                    wei = 1.001 - (length(mat_inds) + 1)/length(neis)\n",
    "                elseif comp == \"normal_noise\"\n",
    "                    wei = 1.001 - (length(mat_inds) + 1)/length(neis) + rand(Uniform(-0.00005, 0.00005))\n",
    "                elseif comp == \"betweenness_weight\"\n",
    "                    wei = 1.001 - bws[n]/sum_bws\n",
    "                elseif comp == \"shuffle\"\n",
    "                    wei = 1.001 + rand()\n",
    "                end\n",
    "                set_prop!(graph, i, n, :weight, wei)\n",
    "            else\n",
    "                if comp == \"normal\"\n",
    "                    wei = minimum([1.001 - (length(mat_inds) + 1)/length(neis), LightGraphs.weights(graph)[i, n]])\n",
    "                elseif comp == \"normal_noise\"\n",
    "                    wei = minimum([1.001 - (length(mat_inds) + 1)/length(neis), LightGraphs.weights(graph)[i, n]]) + rand(Uniform(-0.00005, 0.00005))\n",
    "                elseif comp == \"betweenness_weight\"\n",
    "                    wei = minimum([1.001 - bws[n]/sum_bws, LightGraphs.weights(graph)[i, n]])\n",
    "                elseif comp == \"shuffle\"\n",
    "                    wei = minimum([1.001 + rand(), LightGraphs.weights(graph)[i, n]])\n",
    "                end\n",
    "                set_prop!(graph, i, n, :weight, wei)\n",
    "            end\n",
    "        end\n",
    "    end\n",
    "end"
   ]
  },
  {
   "cell_type": "code",
   "execution_count": 7,
   "metadata": {},
   "outputs": [
    {
     "data": {
      "text/plain": [
       "\"done\""
      ]
     },
     "metadata": {},
     "output_type": "display_data"
    }
   ],
   "source": [
    "using LightGraphs, Histograms\n",
    "\n",
    "\n",
    "function custom_cmp(x::String)\n",
    "   number_idx = findfirst(isdigit, x)\n",
    "   str, num = SubString(x, 1, number_idx-1), SubString(x, number_idx, length(x))\n",
    "   return str, parse(Int, num)\n",
    "end\n",
    "\n",
    "\n",
    "function graph_nosec_from_graph(graph; comp=\"mst_krus\", comp_vis=false)\n",
    "    if comp == \"mst_krus\"\n",
    "        edg_list = kruskal_mst(graph)\n",
    "        gr1 = induced_subgraph(graph, edg_list)[1]\n",
    "    elseif comp == \"mst_prim\"\n",
    "        ids, n_deg_int = [], []\n",
    "        ccs = connected_components(graph)\n",
    "        for cc in ccs\n",
    "            cc_gr = induced_subgraph(graph, cc)[1]\n",
    "            edg_list = prim_mst(cc_gr)\n",
    "            gr1 = induced_subgraph(cc_gr, edg_list)[1]\n",
    "            emap = vertices(gr1)\n",
    "            append!(ids, map(x -> get_prop(gr1, x, :id), emap))\n",
    "            append!(n_deg_int, map(x -> length(neighbors(gr1, x)), emap))\n",
    "        end\n",
    "        n_deg_int = n_deg_int[sortperm(ids, rev=false, by=custom_cmp)]\n",
    "        ids = sort(ids, by=custom_cmp)\n",
    "        return n_deg_int, ids                   # maybe problem!!! only 2 outputs\n",
    "    elseif comp == \"all\"\n",
    "        gr1 = graph\n",
    "        edg_list = edges(graph)\n",
    "    end\n",
    "    emap = vertices(gr1)\n",
    "    ids = map(x -> get_prop(gr1, x, :id), emap)\n",
    "    n_deg_int = map(x -> length(neighbors(gr1, x)), emap)\n",
    "    n_deg_int = n_deg_int[sortperm(ids, rev=false, by=custom_cmp)]\n",
    "    ids = sort(ids, by=custom_cmp)\n",
    "    if comp_vis\n",
    "        n_deg = convert.(UInt64, n_deg_int);\n",
    "        nd_h = Histograms.Histogram(n_deg, scale=:log);\n",
    "        p = plot(nd_h, yscale=:log10, xscale=:log10, line=false, markershape=:auto)\n",
    "        x = range(1, 30, length=10); y = 1.0*x.^(-3);\n",
    "        p = plot!(x, y, label=\"a = -3\")\n",
    "        gui(p)\n",
    "    end\n",
    "    return n_deg_int, ids, edg_list\n",
    "end\n",
    "\n",
    "assign_weights_edges!(graph_obj.mg, comp=\"normal_noise\");\n",
    "assign_weights_edges!(graph_obj2.mg, comp=\"normal_noise\");\n",
    "#assign_weights_edges!(graph_obj2.mg, \"shuffle\");\n",
    "display(\"done\")"
   ]
  },
  {
   "cell_type": "code",
   "execution_count": 9,
   "metadata": {},
   "outputs": [
    {
     "data": {
      "text/plain": [
       "\"These are top jumpers:\""
      ]
     },
     "metadata": {},
     "output_type": "display_data"
    },
    {
     "data": {
      "text/html": [
       "<table class=\"data-frame\"><thead><tr><th></th><th>chr</th><th>coor_s</th><th>coor_e</th><th>ids</th></tr><tr><th></th><th>String</th><th>Int64</th><th>Int64</th><th>String</th></tr></thead><tbody><p>10 rows × 4 columns</p><tr><th>1</th><td>15</td><td>28463185</td><td>28856539</td><td>id2116</td></tr><tr><th>2</th><td>9</td><td>39588991</td><td>40873597</td><td>id6605</td></tr><tr><th>3</th><td>12</td><td>6536491</td><td>6538367</td><td>id1311</td></tr><tr><th>4</th><td>3</td><td>125690307</td><td>125935167</td><td>id4582</td></tr><tr><th>5</th><td>17</td><td>20309890</td><td>20560909</td><td>id2673</td></tr><tr><th>6</th><td>22</td><td>15200000</td><td>15934152</td><td>id4157</td></tr><tr><th>7</th><td>7</td><td>5527149</td><td>5529666</td><td>id5777</td></tr><tr><th>8</th><td>7</td><td>63382524</td><td>63852324</td><td>id5973</td></tr><tr><th>9</th><td>17</td><td>32008863</td><td>32104799</td><td>id2761</td></tr><tr><th>10</th><td>18</td><td>14171468</td><td>14731731</td><td>id3014</td></tr></tbody></table>"
      ],
      "text/latex": [
       "\\begin{tabular}{r|cccc}\n",
       "\t& chr & coor\\_s & coor\\_e & ids\\\\\n",
       "\t\\hline\n",
       "\t& String & Int64 & Int64 & String\\\\\n",
       "\t\\hline\n",
       "\t1 & 15 & 28463185 & 28856539 & id2116 \\\\\n",
       "\t2 & 9 & 39588991 & 40873597 & id6605 \\\\\n",
       "\t3 & 12 & 6536491 & 6538367 & id1311 \\\\\n",
       "\t4 & 3 & 125690307 & 125935167 & id4582 \\\\\n",
       "\t5 & 17 & 20309890 & 20560909 & id2673 \\\\\n",
       "\t6 & 22 & 15200000 & 15934152 & id4157 \\\\\n",
       "\t7 & 7 & 5527149 & 5529666 & id5777 \\\\\n",
       "\t8 & 7 & 63382524 & 63852324 & id5973 \\\\\n",
       "\t9 & 17 & 32008863 & 32104799 & id2761 \\\\\n",
       "\t10 & 18 & 14171468 & 14731731 & id3014 \\\\\n",
       "\\end{tabular}\n"
      ],
      "text/plain": [
       "\u001b[1m10×4 DataFrame\u001b[0m\n",
       "\u001b[1m Row \u001b[0m│\u001b[1m chr    \u001b[0m\u001b[1m coor_s    \u001b[0m\u001b[1m coor_e    \u001b[0m\u001b[1m ids    \u001b[0m\n",
       "\u001b[1m     \u001b[0m│\u001b[90m String \u001b[0m\u001b[90m Int64     \u001b[0m\u001b[90m Int64     \u001b[0m\u001b[90m String \u001b[0m\n",
       "─────┼──────────────────────────────────────\n",
       "   1 │ 15       28463185   28856539  id2116\n",
       "   2 │ 9        39588991   40873597  id6605\n",
       "   3 │ 12        6536491    6538367  id1311\n",
       "   4 │ 3       125690307  125935167  id4582\n",
       "   5 │ 17       20309890   20560909  id2673\n",
       "   6 │ 22       15200000   15934152  id4157\n",
       "   7 │ 7         5527149    5529666  id5777\n",
       "   8 │ 7        63382524   63852324  id5973\n",
       "   9 │ 17       32008863   32104799  id2761\n",
       "  10 │ 18       14171468   14731731  id3014"
      ]
     },
     "metadata": {},
     "output_type": "display_data"
    }
   ],
   "source": [
    "n_deg, ids_hui, edg_lis = graph_nosec_from_graph(graph_obj2.mg, comp=\"mst_krus\")\n",
    "\n",
    "zaz = ids_hui[sortperm(n_deg, rev=true)[1:10]]   # different ids and ndegs also possible\n",
    "\n",
    "display(\"These are top jumpers:\")\n",
    "display(b.int_DF[findfirst.(isequal.(zaz), (b.int_DF[!, :ids],)), :])\n",
    "b.int_DF[!, :jumps] = zeros(Int64, size(b.int_DF)[1])\n",
    "\n",
    "for (i, val) in enumerate(ids_hui)\n",
    "    b.int_DF[b.int_DF[!,:ids] .== val, :jumps] .= n_deg[i] \n",
    "end"
   ]
  },
  {
   "cell_type": "code",
   "execution_count": null,
   "metadata": {},
   "outputs": [],
   "source": []
  },
  {
   "cell_type": "markdown",
   "metadata": {
    "jp-MarkdownHeadingCollapsed": true,
    "tags": []
   },
   "source": [
    "# Annotate SD network with genomic features\n",
    "### (!!!) Works only when additional UCSC annotation files are uploaded. One can skip this section and use resulting annotations. All annotations are at \"inputcsv\" folder"
   ]
  },
  {
   "cell_type": "code",
   "execution_count": 12,
   "metadata": {},
   "outputs": [
    {
     "data": {
      "text/plain": [
       "Read_repeats_2_DF (generic function with 1 method)"
      ]
     },
     "execution_count": 12,
     "metadata": {},
     "output_type": "execute_result"
    }
   ],
   "source": [
    "# Read functions + H\n",
    "\n",
    "function Read_genes_and_gaps_2_DF(filename::String)\n",
    "    df = DataFrame(chr=String[], coor_s=Int64[], coor_e=Int64[])\n",
    "    open(filename) do sdfile\n",
    "        lines = readlines(sdfile);\n",
    "        coors_str = map(x -> strip(x) |> split |> x -> x[[1,2,3]], lines)\n",
    "        map(x -> push!(df ,[replace(x[1], r\"chr\" => \"\") [parse.(Int64, x[2:3])...]']), coors_str)\n",
    "    end\n",
    "    return df\n",
    "end\n",
    "\n",
    "function Read_repli_recomb_dnase_2_DF(filename::String)\n",
    "    df = DataFrame(chr=String[], coor_s=Int64[], coor_e=Int64[], value=Float64[])\n",
    "    open(filename) do sdfile\n",
    "        lines = readlines(sdfile);\n",
    "        coors_str = map(x -> strip(x) |> split |> x -> x[[1,2,3,4]], lines)\n",
    "        map(x -> push!(df ,[replace(x[1], r\"chr\" => \"\") [parse.(Int64, x[2:3])...]' parse(Float64, x[4])]), coors_str)\n",
    "    end\n",
    "    return df\n",
    "end\n",
    "\n",
    "function Read_repeats_2_DF(filename::String)\n",
    "    df = DataFrame(chr=String[], coor_s=Int64[], coor_e=Int64[], rep_class=String[], rep_family=String[])\n",
    "    open(filename) do sdfile\n",
    "        lines = readlines(sdfile);\n",
    "        coors_str = map(x -> strip(x) |> split |> x -> x[[1,2,3,4,5]], lines)\n",
    "        map(x -> push!(df ,[replace(x[1], r\"chr\" => \"\") [parse.(Int64, x[2:3])...]' x[4] x[5]]), coors_str)\n",
    "    end\n",
    "    return df\n",
    "end"
   ]
  },
  {
   "cell_type": "code",
   "execution_count": 13,
   "metadata": {},
   "outputs": [
    {
     "data": {
      "text/plain": [
       "construct_DF! (generic function with 5 methods)"
      ]
     },
     "execution_count": 13,
     "metadata": {},
     "output_type": "execute_result"
    }
   ],
   "source": [
    "# DF construction functions for all types of data\n",
    "\n",
    "function construct_DF!(df::DataFrame, segments_df::DataFrame, column::Symbol)\n",
    "    # for telo/centro distance\n",
    "    for line in eachrow(df)\n",
    "        coors = Int[]\n",
    "        chr, coor_s, coor_e = line[:chr], line[:coor_s], line[:coor_e]\n",
    "        coors = vcat(segments_df[segments_df[!, :chr] .== chr, :coor_s], segments_df[segments_df[!, :chr] .== chr, :coor_e])\n",
    "        vals = vcat(coor_s .- coors, coors .- coor_e)\n",
    "        line[column] = minimum(vals[vals .>= 0])\n",
    "    end\n",
    "end\n",
    "                                                                            \n",
    "function construct_DF!(pyrs_obj::Main.SDmoduleInit.Interval_object, sds_obj::Main.SDmoduleInit.Interval_object, column::Symbol)\n",
    "    # for intrafraction and not for Hossein\n",
    "    for i in eachrow(pyrs_obj.int_DF)\n",
    "        sds = collect(intersect(sds_obj.int_tree[i[:chr]], (i[:coor_s], i[:coor_e])))\n",
    "        intra_frac = mean(map(x -> i[:chr] == sds_obj.int_DF[sds_obj.int_DF[!, :ids] .== x.value, :chr2][1] ? 1.0 : 0.0, sds))\n",
    "        i[column] = round(intra_frac, digits=3)\n",
    "    end\n",
    "end\n",
    "\n",
    "function construct_DF!(df::DataFrame, segments_obj::Main.SDmoduleInit.Interval_object, column::Symbol, border::Int=-1; gap::Int=0, comp::String=\"mean\", comp2::String=\"both\")\n",
    "    # not for Hossein\n",
    "    for line in eachrow(df)\n",
    "        chr, coor_s, coor_e = line[:chr], line[:coor_s], line[:coor_e]\n",
    "        if border == -1\n",
    "            if column in [:genes, :cpgisl_in]\n",
    "                if chr in keys(segments_obj.int_tree)\n",
    "                    over = collect(intersect(segments_obj.int_tree[chr], (coor_s, coor_e)))\n",
    "                    for ov in over\n",
    "                        line[column] += 1 \n",
    "                    end\n",
    "                end\n",
    "            elseif column in [:repli_in, :dnase_in, :repli_deriv, :repli_vari, :recomb_in]\n",
    "                if chr in keys(segments_obj.int_tree)\n",
    "                    over = collect(intersect(segments_obj.int_tree[chr], (coor_s, coor_e)))\n",
    "                    over = collect(map(x -> x.value, over))\n",
    "                    if length(over) > 0  \n",
    "                        if comp == \"mean\"\n",
    "                            line[column] = round(mean(over), digits=3)\n",
    "                        elseif comp == \"derivative\"\n",
    "                            line[column] = maximum(over) - minimum(over)\n",
    "                        elseif comp == \"variance\"\n",
    "                            if length(over) > 1\n",
    "                                line[column] = round(std(over), digits=3)\n",
    "                            end\n",
    "                        end\n",
    "                    end\n",
    "                end\n",
    "            end\n",
    "        else\n",
    "            if column in [:gaps, :cpgisl_bor, :ctcf, :genes_bor]\n",
    "                if coor_s - gap <= coor_e + gap\n",
    "                    if (comp2 == \"both\") & (chr in keys(segments_obj.int_tree))\n",
    "                        over = collect(intersect(segments_obj.int_tree[chr], (coor_s - gap - border, coor_s - gap)))\n",
    "                        append!(over, collect(intersect(segments_obj.int_tree[chr], (coor_e + gap, coor_e + gap + border))))\n",
    "                    elseif (comp2 == \"left\") & (chr in keys(segments_obj.int_tree))\n",
    "                        over = collect(intersect(segments_obj.int_tree[chr], (coor_s - gap - border, coor_s - gap)))\n",
    "                    elseif (comp2 == \"right\") & (chr in keys(segments_obj.int_tree))\n",
    "                        over = collect(intersect(segments_obj.int_tree[chr], (coor_e + gap, coor_e + gap + border)))\n",
    "                    elseif !(chr in keys(segments_obj.int_tree))\n",
    "                        over = []\n",
    "                    end\n",
    "                else\n",
    "                    if (comp2 == \"both\") & (chr in keys(segments_obj.int_tree))\n",
    "                        over = collect(intersect(segments_obj.int_tree[chr], (coor_s - border, coor_s)))\n",
    "                        append!(over, collect(intersect(segments_obj.int_tree[chr], (coor_e, coor_e + border))))\n",
    "                    elseif (comp2 == \"left\") & (chr in keys(segments_obj.int_tree))\n",
    "                        over = collect(intersect(segments_obj.int_tree[chr], (coor_s - border, coor_s)))\n",
    "                    elseif (comp2 == \"right\") & (chr in keys(segments_obj.int_tree))\n",
    "                        over = collect(intersect(segments_obj.int_tree[chr], (coor_e, coor_e + border)))\n",
    "                    elseif !(chr in keys(segments_obj.int_tree))\n",
    "                        over = []\n",
    "                    end\n",
    "                end\n",
    "                for ov in over\n",
    "                    line[column] += 1 \n",
    "                end\n",
    "            elseif column in [:repli_bor, :repli_bor_deriv, :dnase_bor, :recomb_bor]\n",
    "                if coor_s - gap <= coor_e + gap\n",
    "                    if (comp2 == \"both\") & (chr in keys(segments_obj.int_tree))\n",
    "                        over = collect(intersect(segments_obj.int_tree[chr], (coor_s - gap - border, coor_s - gap)))\n",
    "                        append!(over, collect(intersect(segments_obj.int_tree[chr], (coor_e + gap, coor_e + gap + border))))\n",
    "                    elseif (comp2 == \"left\") & (chr in keys(segments_obj.int_tree))\n",
    "                        over = collect(intersect(segments_obj.int_tree[chr], (coor_s - gap - border, coor_s - gap)))\n",
    "                    elseif (comp2 == \"right\") & (chr in keys(segments_obj.int_tree))\n",
    "                        over = collect(intersect(segments_obj.int_tree[chr], (coor_e + gap, coor_e + gap + border)))\n",
    "                    elseif !(chr in keys(segments_obj.int_tree))\n",
    "                        over = []\n",
    "                    end\n",
    "                else\n",
    "                    if (comp2 == \"both\") & (chr in keys(segments_obj.int_tree))\n",
    "                        over = collect(intersect(segments_obj.int_tree[chr], (coor_s - border, coor_s)))\n",
    "                        append!(over, collect(intersect(segments_obj.int_tree[chr], (coor_e, coor_e + border))))\n",
    "                    elseif (comp2 == \"left\") & (chr in keys(segments_obj.int_tree))\n",
    "                        over = collect(intersect(segments_obj.int_tree[chr], (coor_s - border, coor_s)))\n",
    "                    elseif (comp2 == \"right\") & (chr in keys(segments_obj.int_tree))\n",
    "                        over = collect(intersect(segments_obj.int_tree[chr], (coor_e, coor_e + border)))\n",
    "                    elseif !(chr in keys(segments_obj.int_tree))\n",
    "                        over = []\n",
    "                    end\n",
    "                end                                        \n",
    "                if (length(over) > 0) & (column == :repli_bor_deriv)\n",
    "                    line[column] = round(maximum(collect(map(x -> x.value, over))), digits=3)\n",
    "                elseif length(over) > 0\n",
    "                    line[column] = round(mean(collect(map(x -> x.value, over))), digits=3)\n",
    "                end\n",
    "            end\n",
    "        end\n",
    "    end\n",
    "end\n",
    "\n",
    "\n",
    "function construct_DF!(df::DataFrame, border::Int, gap::Int)\n",
    "    # no idea if it matters, but in Hosseins ipython part the same function is called construct_DF_hos!\n",
    "    df[!, :used_coor_l_s], df[!, :used_coor_l_e] = zeros(Int, size(df)[1]), zeros(Int, size(df)[1])\n",
    "    df[!, :used_coor_r_s], df[!, :used_coor_r_e] = zeros(Int, size(df)[1]), zeros(Int, size(df)[1])\n",
    "    for line in eachrow(df)\n",
    "        chr, coor_s, coor_e = line[:chr], line[:coor_s], line[:coor_e]\n",
    "        if coor_s - gap <= coor_e + gap\n",
    "            line[:used_coor_l_s], line[:used_coor_l_e] = coor_s - gap - border, coor_s - gap\n",
    "            line[:used_coor_r_s], line[:used_coor_r_e] = coor_e + gap, coor_e + gap + border\n",
    "        else\n",
    "            line[:used_coor_l_s], line[:used_coor_l_e] = coor_s - border, coor_s\n",
    "            line[:used_coor_r_s], line[:used_coor_r_e] = coor_e, coor_e + border\n",
    "        end\n",
    "    end\n",
    "end                                                                                                      \n",
    "                                                                                                        "
   ]
  },
  {
   "cell_type": "code",
   "execution_count": 14,
   "metadata": {},
   "outputs": [],
   "source": [
    "step_n_0 = deepcopy(b.int_DF)\n",
    "step_n_100, step_n_200, step_n_300, step_n_400 = deepcopy(b.int_DF), deepcopy(b.int_DF), deepcopy(b.int_DF), deepcopy(b.int_DF)\n",
    "step_p_100, step_p_200, step_p_300, step_p_400 = deepcopy(b.int_DF), deepcopy(b.int_DF), deepcopy(b.int_DF), deepcopy(b.int_DF)\n",
    "step_p_500, step_p_600, step_p_700, step_p_800 = deepcopy(b.int_DF), deepcopy(b.int_DF), deepcopy(b.int_DF), deepcopy(b.int_DF)\n",
    "step_p_900, step_p_1000, step_p_1100, step_p_1200 = deepcopy(b.int_DF), deepcopy(b.int_DF), deepcopy(b.int_DF), deepcopy(b.int_DF)\n",
    "step_p_1300, step_p_1400, step_p_1500, step_p_1600 = deepcopy(b.int_DF), deepcopy(b.int_DF), deepcopy(b.int_DF), deepcopy(b.int_DF)\n",
    "step_p_1700, step_p_1800, step_p_1900, step_p_2000 = deepcopy(b.int_DF), deepcopy(b.int_DF), deepcopy(b.int_DF), deepcopy(b.int_DF)\n",
    "step_p_2100, step_p_2200, step_p_2300, step_p_2400 = deepcopy(b.int_DF), deepcopy(b.int_DF), deepcopy(b.int_DF), deepcopy(b.int_DF)\n",
    "step_p_2500, step_p_2600, step_p_2700, step_p_2800 = deepcopy(b.int_DF), deepcopy(b.int_DF), deepcopy(b.int_DF), deepcopy(b.int_DF)\n",
    "step_p_2900, step_p_3000 = deepcopy(b.int_DF), deepcopy(b.int_DF);\n",
    "\n",
    "steps = [step_n_0, step_n_100, step_n_200, step_n_300, step_n_400,\n",
    "    step_p_100, step_p_200, step_p_300, step_p_400, step_p_500, step_p_600, step_p_700, step_p_800, step_p_900,\n",
    "    step_p_1000, step_p_1100, step_p_1200, step_p_1300, step_p_1400, step_p_1500, step_p_1600, step_p_1700, step_p_1800, step_p_1900, \n",
    "    step_p_2000, step_p_2100, step_p_2200, step_p_2300, step_p_2400, step_p_2500, step_p_2600, step_p_2700, step_p_2800, step_p_2900, step_p_3000]\n",
    "\n",
    "border = 50\n",
    "gaps = [-1*border, -2*border, -3*border, -4*border, -5*border, \n",
    "        1*border, 2*border, 3*border, 4*border, 5*border, 6*border, 7*border, 8*border, 9*border, 10*border,\n",
    "        11*border, 12*border, 13*border, 14*border, 15*border, 16*border, 17*border, 18*border, 19*border, 20*border, \n",
    "        21*border, 22*border, 23*border, 24*border, 25*border, 26*border, 27*border, 28*border, 29*border, 30*border];"
   ]
  },
  {
   "cell_type": "code",
   "execution_count": 11,
   "metadata": {},
   "outputs": [],
   "source": [
    "using CSV\n",
    "\n",
    "steps_shuff, gaps_shuff = [], []\n",
    "\n",
    "for i in 1:10    # better larger numbers of permutations\n",
    "    name = \"../shuffled_SDs/df_shuff\"*string(i)*\".bed\"   # specify the path\n",
    "    two = DataFrame(CSV.File(name))\n",
    "    two[!, :chr] = string.(two[!, :chr])\n",
    "    append!(steps_shuff, [deepcopy(two)])\n",
    "    append!(gaps_shuff, 0)\n",
    "end\n"
   ]
  },
  {
   "cell_type": "code",
   "execution_count": 15,
   "metadata": {},
   "outputs": [],
   "source": [
    "# our\n",
    "\n",
    "genes_df = Read_genes_and_gaps_2_DF(\"../UCSC_features/with_sex/genes_GRCh38_noprom_wsex.bed\");\n",
    "genes_tree = ApeLineage.Itree_from_DF_ape_lineage(genes_df, nothing);\n",
    "genes_obj = SDmoduleInit.Interval_object(genes_df, genes_tree);\n",
    "\n",
    "gaps_df = Read_genes_and_gaps_2_DF(\"../UCSC_features/with_sex/hg38_assembly_all_gaps_wsex.agp\");\n",
    "gaps_tree = ApeLineage.Itree_from_DF_ape_lineage(gaps_df, nothing);\n",
    "gaps_obj = SDmoduleInit.Interval_object(gaps_df, gaps_tree);\n",
    "\n",
    "centro_df = Read_genes_and_gaps_2_DF(\"../UCSC_features/with_sex/centromeres_hg38_wsex.txt\");\n",
    "telo_df = Read_genes_and_gaps_2_DF(\"../UCSC_features/with_sex/telomeres_hg38_wsex.txt\");"
   ]
  },
  {
   "cell_type": "code",
   "execution_count": 16,
   "metadata": {},
   "outputs": [],
   "source": [
    "# our\n",
    "\n",
    "cpgisl_df = Read_genes_and_gaps_2_DF(\"../UCSC_features/with_sex/CpG_islands_hg38_wsex.bed\");\n",
    "cpgisl_tree = ApeLineage.Itree_from_DF_ape_lineage(cpgisl_df, nothing);\n",
    "cpgisl_obj = SDmoduleInit.Interval_object(cpgisl_df, cpgisl_tree);\n",
    "\n",
    "repli_df = Read_repli_recomb_dnase_2_DF(\"../UCSC_features/with_sex/Replit_GM12878_G1b1_hg38_wsex.bed\");\n",
    "repli_tree = ApeLineage.Itree_from_DF_ape_lineage(repli_df, :value);\n",
    "repli_obj = SDmoduleInit.Interval_object(repli_df, repli_tree);"
   ]
  },
  {
   "cell_type": "code",
   "execution_count": 17,
   "metadata": {},
   "outputs": [],
   "source": [
    "# only in ours now\n",
    "\n",
    "repli_deriv_df = Read_repli_recomb_dnase_2_DF(\"../UCSC_features/with_sex/Replit_deriv_4_border_hg38_wsex.bed\");\n",
    "repli_deriv_tree = ApeLineage.Itree_from_DF_ape_lineage(repli_deriv_df, :value);\n",
    "repli_deriv_obj = SDmoduleInit.Interval_object(repli_deriv_df, repli_deriv_tree);"
   ]
  },
  {
   "cell_type": "code",
   "execution_count": 18,
   "metadata": {},
   "outputs": [],
   "source": [
    "# our\n",
    "\n",
    "ctcf_df = Read_genes_and_gaps_2_DF(\"../UCSC_features/with_sex/CTCF_GM78_Ht1_hg38_wsex.bed\");\n",
    "ctcf_tree = ApeLineage.Itree_from_DF_ape_lineage(ctcf_df, nothing);\n",
    "ctcf_obj = SDmoduleInit.Interval_object(ctcf_df, ctcf_tree);\n",
    "\n",
    "recomb_df = Read_repli_recomb_dnase_2_DF(\"../UCSC_features/with_sex/Recomb_rate_hg38_wsex.bed\");\n",
    "recomb_tree = ApeLineage.Itree_from_DF_ape_lineage(recomb_df, :value);\n",
    "recomb_obj = SDmoduleInit.Interval_object(recomb_df, recomb_tree);\n",
    "\n",
    "dnase_df = Read_repli_recomb_dnase_2_DF(\"../UCSC_features/with_sex/DNAse_HS_master_hg38_wsex.bed\");\n",
    "dnase_tree = ApeLineage.Itree_from_DF_ape_lineage(dnase_df, :value);\n",
    "dnase_obj = SDmoduleInit.Interval_object(dnase_df, dnase_tree);"
   ]
  },
  {
   "cell_type": "code",
   "execution_count": 19,
   "metadata": {},
   "outputs": [],
   "source": [
    "repeats_df = Read_repeats_2_DF(\"../UCSC_features/with_sex/Repeats_classes_hg38_wsex.bed\");"
   ]
  },
  {
   "cell_type": "code",
   "execution_count": 20,
   "metadata": {},
   "outputs": [
    {
     "data": {
      "text/plain": [
       "go_thru_repeat_overlaps! (generic function with 1 method)"
      ]
     },
     "execution_count": 20,
     "metadata": {},
     "output_type": "execute_result"
    }
   ],
   "source": [
    "using DataFramesGenomics\n",
    "\n",
    "function int2chr(val::Int)\n",
    "    dic = Dict()\n",
    "    map(x -> dic[x] = string(x), 1:22)\n",
    "    dic[23], dic[24] = \"X\", \"Y\"\n",
    "    return dic[val]\n",
    "end\n",
    "\n",
    "function go_thru_repeat_overlaps!(df, repeats_df, col1::Symbol, col2::Symbol, comp::String; first2=:coor_s, last2=:coor_e)\n",
    "    df[!, :chr] = chr2int.(df.chr)\n",
    "    repeats_df[!, :chr] = chr2int.(repeats_df.chr)\n",
    "    sort!(df, [:chr, col1, col2])\n",
    "    over = eachoverlap(df, repeats_df, first1=col1, last1=col2, first2=first2, last2=last2)\n",
    "    nams = [\"DNA\", \"LINE\", \"LTR\", \"SINE\", \"Low_complexity\", \"Retroposon\", \"Satellite\", \"Simple_repeat\",\n",
    "                    \"rRNA\", \"snRNA\", \"scRNA\", \"srpRNA\", \"tRNA\", \"RC\"]\n",
    "    nams2 = [\"L1\", \"L2\", \"MIR\", \"Alu\", \"Satellite\"]\n",
    "    for (x, y) in over\n",
    "        col_c, col_f = repeats_df[y, :rep_class], repeats_df[y, :rep_family]\n",
    "        if col_c in nams\n",
    "            if comp == \"left\"\n",
    "                df[x, Symbol(col_c*\"_l\")] += 1\n",
    "            elseif comp == \"right\"\n",
    "                df[x, Symbol(col_c*\"_r\")] += 1\n",
    "            end\n",
    "            if col_f in nams2\n",
    "                if comp == \"left\"\n",
    "                    df[x, Symbol(col_f*\"_s_l\")] += 1\n",
    "                elseif comp == \"right\"\n",
    "                    df[x, Symbol(col_f*\"_s_r\")] += 1\n",
    "                end\n",
    "            end\n",
    "        end\n",
    "    end\n",
    "    df[!, :chr] = int2chr.(df.chr)\n",
    "    repeats_df[!, :chr] = int2chr.(repeats_df.chr)\n",
    "end"
   ]
  },
  {
   "cell_type": "code",
   "execution_count": 21,
   "metadata": {},
   "outputs": [
    {
     "data": {
      "text/plain": [
       "go_thru_thru! (generic function with 1 method)"
      ]
     },
     "execution_count": 21,
     "metadata": {},
     "output_type": "execute_result"
    }
   ],
   "source": [
    "using Printf\n",
    "\n",
    "function go_thru_thru!(df_both, border, gap_value)\n",
    "    # The repeats part\n",
    "    # border was 100 mostly, modify steps;\n",
    "    t1 = time()\n",
    "    df_both[!, :DNA_l], df_both[!, :LINE_l], df_both[!, :LTR_l], df_both[!, :SINE_l] = zeros(Int, size(df_both)[1]), zeros(Int, size(df_both)[1]), zeros(Int, size(df_both)[1]), zeros(Int, size(df_both)[1])\n",
    "    df_both[!, :Low_complexity_l], df_both[!, :Retroposon_l], df_both[!, :Satellite_l], df_both[!, :Simple_repeat_l] = zeros(Int, size(df_both)[1]), zeros(Int, size(df_both)[1]), zeros(Int, size(df_both)[1]), zeros(Int, size(df_both)[1])\n",
    "    df_both[!, :rRNA_l], df_both[!, :snRNA_l], df_both[!, :scRNA_l], df_both[!, :srpRNA_l] = zeros(Int, size(df_both)[1]), zeros(Int, size(df_both)[1]), zeros(Int, size(df_both)[1]), zeros(Int, size(df_both)[1])\n",
    "    df_both[!, :tRNA_l], df_both[!, :RC_l] = zeros(Int, size(df_both)[1]), zeros(Int, size(df_both)[1]);\n",
    "\n",
    "    df_both[!, :DNA_r], df_both[!, :LINE_r], df_both[!, :LTR_r], df_both[!, :SINE_r] = zeros(Int, size(df_both)[1]), zeros(Int, size(df_both)[1]), zeros(Int, size(df_both)[1]), zeros(Int, size(df_both)[1])\n",
    "    df_both[!, :Low_complexity_r], df_both[!, :Retroposon_r], df_both[!, :Satellite_r], df_both[!, :Simple_repeat_r] = zeros(Int, size(df_both)[1]), zeros(Int, size(df_both)[1]), zeros(Int, size(df_both)[1]), zeros(Int, size(df_both)[1])\n",
    "    df_both[!, :rRNA_r], df_both[!, :snRNA_r], df_both[!, :scRNA_r], df_both[!, :srpRNA_r] = zeros(Int, size(df_both)[1]), zeros(Int, size(df_both)[1]), zeros(Int, size(df_both)[1]), zeros(Int, size(df_both)[1])\n",
    "    df_both[!, :tRNA_r], df_both[!, :RC_r] = zeros(Int, size(df_both)[1]), zeros(Int, size(df_both)[1]);\n",
    "\n",
    "    df_both[!, :L1_s_l], df_both[!, :L2_s_l] = zeros(Int, size(df_both)[1]), zeros(Int, size(df_both)[1])\n",
    "    df_both[!, :MIR_s_l], df_both[!, :Alu_s_l], df_both[!, :Satellite_s_l] = zeros(Int, size(df_both)[1]), zeros(Int, size(df_both)[1]), zeros(Int, size(df_both)[1])\n",
    "    \n",
    "    df_both[!, :L1_s_r], df_both[!, :L2_s_r] = zeros(Int, size(df_both)[1]), zeros(Int, size(df_both)[1])\n",
    "    df_both[!, :MIR_s_r], df_both[!, :Alu_s_r], df_both[!, :Satellite_s_r] = zeros(Int, size(df_both)[1]), zeros(Int, size(df_both)[1]), zeros(Int, size(df_both)[1])\n",
    "    \n",
    "    construct_DF!(df_both, border, gap_value)\n",
    "    \n",
    "    go_thru_repeat_overlaps!(df_both, repeats_df, :used_coor_r_s, :used_coor_r_e, \"right\");\n",
    "    go_thru_repeat_overlaps!(df_both, repeats_df, :used_coor_l_s, :used_coor_l_e, \"left\");\n",
    "    display(time() - t1)\n",
    "end"
   ]
  },
  {
   "cell_type": "code",
   "execution_count": 22,
   "metadata": {},
   "outputs": [
    {
     "data": {
      "text/plain": [
       "modify_dfs_means! (generic function with 1 method)"
      ]
     },
     "execution_count": 22,
     "metadata": {},
     "output_type": "execute_result"
    }
   ],
   "source": [
    "function add_all_columns!(df_in)\n",
    "    df_in[!, :length] = df_in[!, :coor_e] .- df_in[!, :coor_s]\n",
    "    df_in[!, :centro], df_in[!, :telo], df_in[!, :gaps] = zeros(Int, size(df_in)[1]), zeros(Int, size(df_in)[1]), zeros(Int, size(df_in)[1])\n",
    "    df_in[!, :genes], df_in[!, :intra_frac] = zeros(Int, size(df_in)[1]), zeros(Float64, size(df_in)[1])\n",
    "    df_in[!, :cpgisl_in], df_in[!, :cpgisl_bor], df_in[!, :ctcf] = zeros(Int, size(df_in)[1]), zeros(Int, size(df_in)[1]), zeros(Int, size(df_in)[1])\n",
    "\n",
    "    df_in[!, :repli_in], df_in[!, :repli_bor] = zeros(Float64, size(df_in)[1]), zeros(Float64, size(df_in)[1]);\n",
    "    df_in[!, :repli_bor_deriv] = zeros(Float64, size(df_in)[1])\n",
    "    df_in[!, :repli_deriv], df_in[!, :repli_vari] = zeros(Float64, size(df_in)[1]), zeros(Float64, size(df_in)[1]);\n",
    "    df_in[!, :recomb_in], df_in[!, :recomb_bor] = zeros(Float64, size(df_in)[1]), zeros(Float64, size(df_in)[1]);\n",
    "    df_in[!, :dnase_in], df_in[!, :dnase_bor] = zeros(Float64, size(df_in)[1]), zeros(Float64, size(df_in)[1]);\n",
    "end\n",
    "\n",
    "function modify_dfs_gaps!(df_in, border, gap_val)\n",
    "    # border was 100 mostly, modify steps;\n",
    "    construct_DF!(df_in, gaps_obj, :gaps, border, gap=gap_val);\n",
    "    construct_DF!(df_in, cpgisl_obj, :cpgisl_bor, border, gap=gap_val);\n",
    "    construct_DF!(df_in, dnase_obj, :dnase_bor, border, gap=gap_val);\n",
    "    construct_DF!(df_in, ctcf_obj, :ctcf, border, gap=gap_val);\n",
    "    construct_DF!(df_in, recomb_obj, :recomb_bor, border, gap=gap_val);\n",
    "    construct_DF!(df_in, repli_obj, :repli_bor, border, gap=gap_val);\n",
    "    construct_DF!(df_in, repli_deriv_obj, :repli_bor_deriv, border, gap=gap_val);\n",
    "\n",
    "    m_repb = round(mean(df_in[df_in[!, :repli_bor] .!= 0, :repli_bor]), digits=3)\n",
    "    m_recb = round(mean(df_in[df_in[!, :recomb_bor] .!= 0, :recomb_bor]), digits=3)\n",
    "    m_dnab = round(mean(df_in[df_in[!, :dnase_bor] .!= 0, :dnase_bor]), digits=3)\n",
    "    \n",
    "    df_in[df_in[!, :repli_bor] .== 0, :repli_bor] .= m_repb;\n",
    "    df_in[df_in[!, :recomb_bor] .== 0, :recomb_bor] .= m_recb;\n",
    "    df_in[df_in[!, :dnase_bor] .== 0, :dnase_bor] .= m_dnab;\n",
    "end\n",
    "\n",
    "function modify_dfs_means!(df_in, column, var)\n",
    "    df_in[df_in[!, column] .== 0, column] .= var;\n",
    "end"
   ]
  },
  {
   "cell_type": "code",
   "execution_count": 34,
   "metadata": {},
   "outputs": [],
   "source": []
  },
  {
   "cell_type": "code",
   "execution_count": 24,
   "metadata": {},
   "outputs": [],
   "source": [
    "add_all_columns!(b.int_DF);"
   ]
  },
  {
   "cell_type": "code",
   "execution_count": 25,
   "metadata": {},
   "outputs": [],
   "source": [
    "for s in steps\n",
    "    add_all_columns!(s);\n",
    "end\n",
    "\n",
    "for s in steps_shuff\n",
    "   add_all_columns!(s) \n",
    "end"
   ]
  },
  {
   "cell_type": "code",
   "execution_count": 26,
   "metadata": {},
   "outputs": [],
   "source": [
    "using Printf\n",
    "\n",
    "function main_modification(df_in)\n",
    "    construct_DF!(df_in, telo_df, :telo);\n",
    "    construct_DF!(df_in, centro_df, :centro);\n",
    "    construct_DF!(df_in, genes_obj, :genes, -1);\n",
    "    construct_DF!(df_in, cpgisl_obj, :cpgisl_in, -1);\n",
    "    construct_DF!(df_in, dnase_obj, :dnase_in, -1);\n",
    "    construct_DF!(df_in, recomb_obj, :recomb_in, -1);\n",
    "    construct_DF!(df_in, repli_obj, :repli_in, -1);\n",
    "    construct_DF!(df_in, repli_obj, :repli_deriv, -1; comp=\"derivative\");\n",
    "    construct_DF!(df_in, repli_obj, :repli_vari, -1; comp=\"variance\");\n",
    "\n",
    "    modify_dfs_gaps!(df_in, border, 0);\n",
    "\n",
    "    m_repi = round(mean(df_in[df_in[!, :repli_in] .!= 0, :repli_in]), digits=3)\n",
    "    m_repder = round(mean(df_in[df_in[!, :repli_deriv] .!= 0, :repli_deriv]), digits=3)\n",
    "    m_repvar = round(mean(df_in[df_in[!, :repli_vari] .!= 0, :repli_vari]), digits=3)\n",
    "    m_reci = round(mean(df_in[df_in[!, :recomb_in] .!= 0, :recomb_in]), digits=3)\n",
    "    m_dnai = round(mean(df_in[df_in[!, :dnase_in] .!= 0, :dnase_in]), digits=3)\n",
    "\n",
    "    modify_dfs_means!(df_in, :repli_in, m_repi);\n",
    "    modify_dfs_means!(df_in, :repli_deriv, m_repder);\n",
    "    modify_dfs_means!(df_in, :repli_vari, m_repvar);\n",
    "    modify_dfs_means!(df_in, :recomb_in, m_reci);\n",
    "    modify_dfs_means!(df_in, :dnase_in, m_dnai);\n",
    "end\n",
    "    \n",
    "construct_DF!(b, a, :intra_frac);\n",
    "main_modification(b.int_DF);"
   ]
  },
  {
   "cell_type": "code",
   "execution_count": 27,
   "metadata": {},
   "outputs": [
    {
     "data": {
      "text/plain": [
       "84.923024892807"
      ]
     },
     "metadata": {},
     "output_type": "display_data"
    },
    {
     "data": {
      "text/plain": [
       "\"shuffs:\""
      ]
     },
     "metadata": {},
     "output_type": "display_data"
    }
   ],
   "source": [
    "function finzalize_df_cols!(df_array, border, gaps_arr)\n",
    "    t1 = time()\n",
    "    for (i, s) in enumerate(df_array)\n",
    "        modify_dfs_gaps!(s, border, gaps_arr[i]);\n",
    "        s[!, :intra_frac] = b.int_DF[!, :intra_frac]\n",
    "        main_modification(s)\n",
    "    end\n",
    "    display(time() - t1)\n",
    "end\n",
    "\n",
    "finzalize_df_cols!(steps, border, gaps)\n",
    "display(\"shuffs:\")\n",
    "finzalize_df_cols!(steps_shuff, border, gaps_shuff)"
   ]
  },
  {
   "cell_type": "code",
   "execution_count": 28,
   "metadata": {},
   "outputs": [
    {
     "data": {
      "text/plain": [
       "225.0757179260254"
      ]
     },
     "metadata": {},
     "output_type": "display_data"
    }
   ],
   "source": [
    "# Repeats (2-3 mins)\n",
    "\n",
    "go_thru_thru!(b.int_DF, border, 0);"
   ]
  },
  {
   "cell_type": "code",
   "execution_count": 77,
   "metadata": {},
   "outputs": [
    {
     "data": {
      "text/plain": [
       "259.5600121021271"
      ]
     },
     "metadata": {},
     "output_type": "display_data"
    },
    {
     "data": {
      "text/plain": [
       "163.5455539226532"
      ]
     },
     "metadata": {},
     "output_type": "display_data"
    },
    {
     "data": {
      "text/plain": [
       "170.25235104560852"
      ]
     },
     "metadata": {},
     "output_type": "display_data"
    },
    {
     "data": {
      "text/plain": [
       "252.07720184326172"
      ]
     },
     "metadata": {},
     "output_type": "display_data"
    },
    {
     "data": {
      "text/plain": [
       "206.51947808265686"
      ]
     },
     "metadata": {},
     "output_type": "display_data"
    },
    {
     "data": {
      "text/plain": [
       "196.47890996932983"
      ]
     },
     "metadata": {},
     "output_type": "display_data"
    },
    {
     "data": {
      "text/plain": [
       "241.43354415893555"
      ]
     },
     "metadata": {},
     "output_type": "display_data"
    },
    {
     "data": {
      "text/plain": [
       "206.71635103225708"
      ]
     },
     "metadata": {},
     "output_type": "display_data"
    },
    {
     "data": {
      "text/plain": [
       "210.4346740245819"
      ]
     },
     "metadata": {},
     "output_type": "display_data"
    },
    {
     "data": {
      "text/plain": [
       "227.01911306381226"
      ]
     },
     "metadata": {},
     "output_type": "display_data"
    },
    {
     "data": {
      "text/plain": [
       "228.95267295837402"
      ]
     },
     "metadata": {},
     "output_type": "display_data"
    },
    {
     "data": {
      "text/plain": [
       "213.26816606521606"
      ]
     },
     "metadata": {},
     "output_type": "display_data"
    },
    {
     "data": {
      "text/plain": [
       "219.7652599811554"
      ]
     },
     "metadata": {},
     "output_type": "display_data"
    },
    {
     "data": {
      "text/plain": [
       "240.5399968624115"
      ]
     },
     "metadata": {},
     "output_type": "display_data"
    },
    {
     "data": {
      "text/plain": [
       "217.73772501945496"
      ]
     },
     "metadata": {},
     "output_type": "display_data"
    },
    {
     "data": {
      "text/plain": [
       "182.92744898796082"
      ]
     },
     "metadata": {},
     "output_type": "display_data"
    },
    {
     "data": {
      "text/plain": [
       "174.3397397994995"
      ]
     },
     "metadata": {},
     "output_type": "display_data"
    },
    {
     "data": {
      "text/plain": [
       "175.4081199169159"
      ]
     },
     "metadata": {},
     "output_type": "display_data"
    },
    {
     "data": {
      "text/plain": [
       "170.38836097717285"
      ]
     },
     "metadata": {},
     "output_type": "display_data"
    },
    {
     "data": {
      "text/plain": [
       "167.6441490650177"
      ]
     },
     "metadata": {},
     "output_type": "display_data"
    },
    {
     "data": {
      "text/plain": [
       "193.14932417869568"
      ]
     },
     "metadata": {},
     "output_type": "display_data"
    },
    {
     "data": {
      "text/plain": [
       "204.27232193946838"
      ]
     },
     "metadata": {},
     "output_type": "display_data"
    },
    {
     "data": {
      "text/plain": [
       "167.44825983047485"
      ]
     },
     "metadata": {},
     "output_type": "display_data"
    },
    {
     "data": {
      "text/plain": [
       "171.74181413650513"
      ]
     },
     "metadata": {},
     "output_type": "display_data"
    },
    {
     "data": {
      "text/plain": [
       "214.28236413002014"
      ]
     },
     "metadata": {},
     "output_type": "display_data"
    },
    {
     "data": {
      "text/plain": [
       "209.63495707511902"
      ]
     },
     "metadata": {},
     "output_type": "display_data"
    },
    {
     "data": {
      "text/plain": [
       "232.34645414352417"
      ]
     },
     "metadata": {},
     "output_type": "display_data"
    },
    {
     "data": {
      "text/plain": [
       "193.37865495681763"
      ]
     },
     "metadata": {},
     "output_type": "display_data"
    },
    {
     "data": {
      "text/plain": [
       "178.92938995361328"
      ]
     },
     "metadata": {},
     "output_type": "display_data"
    },
    {
     "data": {
      "text/plain": [
       "193.40595412254333"
      ]
     },
     "metadata": {},
     "output_type": "display_data"
    },
    {
     "data": {
      "text/plain": [
       "188.31883215904236"
      ]
     },
     "metadata": {},
     "output_type": "display_data"
    },
    {
     "data": {
      "text/plain": [
       "163.6668779850006"
      ]
     },
     "metadata": {},
     "output_type": "display_data"
    },
    {
     "data": {
      "text/plain": [
       "153.00880813598633"
      ]
     },
     "metadata": {},
     "output_type": "display_data"
    },
    {
     "data": {
      "text/plain": [
       "153.0131049156189"
      ]
     },
     "metadata": {},
     "output_type": "display_data"
    },
    {
     "data": {
      "text/plain": [
       "174.47577095031738"
      ]
     },
     "metadata": {},
     "output_type": "display_data"
    },
    {
     "data": {
      "text/plain": [
       "150.7454240322113"
      ]
     },
     "metadata": {},
     "output_type": "display_data"
    },
    {
     "data": {
      "text/plain": [
       "160.6521909236908"
      ]
     },
     "metadata": {},
     "output_type": "display_data"
    },
    {
     "data": {
      "text/plain": [
       "152.7800099849701"
      ]
     },
     "metadata": {},
     "output_type": "display_data"
    },
    {
     "data": {
      "text/plain": [
       "164.63830304145813"
      ]
     },
     "metadata": {},
     "output_type": "display_data"
    },
    {
     "data": {
      "text/plain": [
       "153.580815076828"
      ]
     },
     "metadata": {},
     "output_type": "display_data"
    },
    {
     "data": {
      "text/plain": [
       "174.29205298423767"
      ]
     },
     "metadata": {},
     "output_type": "display_data"
    },
    {
     "data": {
      "text/plain": [
       "162.11390113830566"
      ]
     },
     "metadata": {},
     "output_type": "display_data"
    },
    {
     "data": {
      "text/plain": [
       "178.77957892417908"
      ]
     },
     "metadata": {},
     "output_type": "display_data"
    },
    {
     "data": {
      "text/plain": [
       "158.02168607711792"
      ]
     },
     "metadata": {},
     "output_type": "display_data"
    },
    {
     "data": {
      "text/plain": [
       "157.2348129749298"
      ]
     },
     "metadata": {},
     "output_type": "display_data"
    }
   ],
   "source": [
    "# Repeats takes 2h;\n",
    "\n",
    "for (i, s) in enumerate(steps)\n",
    "    go_thru_thru!(s, border, gaps[i]);\n",
    "end\n",
    "\n",
    "for (i, s) in enumerate(steps_shuff)\n",
    "   go_thru_thru!(s, border, gaps_shuff[i])\n",
    "end\n"
   ]
  },
  {
   "cell_type": "code",
   "execution_count": 31,
   "metadata": {},
   "outputs": [],
   "source": [
    "rep_obj, recomb_obj, dnase_obj, genes_obj = nothing, nothing, nothing, nothing;\n",
    "gaps_obj, cpgisl_obj, ctcf_obj = nothing, nothing, nothing;\n",
    "repli_deriv_obj = nothing;"
   ]
  },
  {
   "cell_type": "code",
   "execution_count": 24,
   "metadata": {},
   "outputs": [],
   "source": [
    "# save results in the csv format\n",
    "\n",
    "using CSV\n",
    "\n",
    "CSV.write(\"../pathto/df_ws_jumps.csv\", b.int_DF)\n",
    "\n",
    "for (i, s) in enumerate(steps)\n",
    "    q = gaps[i]\n",
    "    CSV.write(\"../pathto/df_ws_jumps$q.csv\", s)\n",
    "end\n",
    "\n",
    "for (i, s) in enumerate(steps_shuff)\n",
    "    CSV.write(\"../pathto/df_shuff_$i.csv\", s)\n",
    "end"
   ]
  },
  {
   "cell_type": "markdown",
   "metadata": {},
   "source": []
  },
  {
   "cell_type": "markdown",
   "metadata": {},
   "source": [
    "# Back to SD network"
   ]
  },
  {
   "cell_type": "code",
   "execution_count": 10,
   "metadata": {},
   "outputs": [
    {
     "data": {
      "text/plain": [
       "0.07347972972972973"
      ]
     },
     "metadata": {},
     "output_type": "display_data"
    },
    {
     "data": {
      "text/plain": [
       "\"percantage of random permutations with less sharp borders:\""
      ]
     },
     "metadata": {},
     "output_type": "display_data"
    },
    {
     "data": {
      "text/plain": [
       "0.0"
      ]
     },
     "metadata": {},
     "output_type": "display_data"
    }
   ],
   "source": [
    "# This cell checks the \"sharp\" or \"suspicious\" borders\n",
    "\n",
    "using StatsBase\n",
    "\n",
    "function filt_shit(edgs, graph)\n",
    "    ccs = connected_components(graph)\n",
    "    lens = map(length, ccs)\n",
    "    bcs = ccs[lens .== maximum(lens)][1]\n",
    "    bcs = filter(x -> length(neighbors(graph, x)) > 1, bcs)\n",
    "    edgs = filter(x -> (x.src in bcs) & (x.dst in bcs), edgs)\n",
    "    return edgs\n",
    "end\n",
    "\n",
    "n_deg, ids_hui, edg_lis = graph_nosec_from_graph(graph_obj.mg, comp=\"mst_krus\")\n",
    "dif = collect(edges(difference(graph_obj.mg, graph_obj2.mg)))\n",
    "\n",
    "dif_bc = filt_shit(dif, graph_obj.mg)\n",
    "edg_lis_bc = filt_shit(edg_lis, graph_obj.mg)\n",
    "edg_all_bc = filt_shit(collect(edges(graph_obj.mg)), graph_obj.mg)\n",
    "match = map(x -> x in edg_lis_bc ? 1 : 0, dif_bc)\n",
    "val = sum(match)/length(dif_bc)\n",
    "display(val)\n",
    "\n",
    "out_lis = [] \n",
    "for i in 1:1000\n",
    "    shuff_dif = sample(edg_all_bc, length(dif_bc), replace=false)\n",
    "    match = map(x -> x in edg_lis_bc ? 1 : 0, shuff_dif)\n",
    "    append!(out_lis, sum(match)/length(shuff_dif))\n",
    "end\n",
    "\n",
    "display(\"percantage of random permutations with less sharp borders:\")\n",
    "display(length(out_lis[out_lis .<= val])/length(out_lis))"
   ]
  },
  {
   "cell_type": "code",
   "execution_count": 21,
   "metadata": {},
   "outputs": [
    {
     "data": {
      "text/plain": [
       "{1325, 10814} undirected Int64 metagraph with Float64 weights defined by :weight (default weight 1.0)"
      ]
     },
     "execution_count": 21,
     "metadata": {},
     "output_type": "execute_result"
    }
   ],
   "source": [
    "using StatsBase\n",
    "\n",
    "function copy_model_bigcomp(N::Int64, frac::Float64)\n",
    "    edg_copy::Array{LightGraphs.SimpleGraphs.SimpleEdge{Int64},1} = []\n",
    "    gr = MetaGraph(complete_graph(2), 1.0)\n",
    "    append!(edg_copy, [Edge(1, 2)])\n",
    "    for i in 1:N-2\n",
    "        add_vertex!(gr)\n",
    "        weis = Weights(map(x -> neighbors(gr, x) |> length, vertices(gr)))\n",
    "        m_node = StatsBase.sample(vertices(gr), weis)\n",
    "        for nei in neighbors(gr, m_node)\n",
    "           if rand() < frac\n",
    "              add_edge!(gr, nei, i+2)  \n",
    "           end\n",
    "        end\n",
    "        add_edge!(gr, m_node, i+2)\n",
    "        append!(edg_copy, [Edge(m_node, i+2)])\n",
    "    end\n",
    "    return gr, edg_copy\n",
    "end\n",
    "\n",
    "copy_gr, edg_copy_real = copy_model_bigcomp(1325, 0.32);  # to make the number of nodes and edges proportional to what we have in the SD giant component\n",
    "copy_gr"
   ]
  },
  {
   "cell_type": "code",
   "execution_count": 22,
   "metadata": {},
   "outputs": [
    {
     "data": {
      "image/png": "[encoded data removed]",
      "text/plain": [
       "PyPlot.Figure(PyObject <Figure size 600x400 with 1 Axes>)"
      ]
     },
     "metadata": {},
     "output_type": "display_data"
    },
    {
     "name": "stdout",
     "output_type": "stream",
     "text": [
      "Fraction of edges match (MST Kruskal):0.6359516616314199\n",
      "Fraction of edges match (Random MST):0.16767371601208458\n",
      "Variance explained for MST Kruskal:0.7217923471085443\n",
      "Variance explained for Random MST:0.40037048032492717\n",
      "Variance explained for Simple:0.6009881501864317\n",
      "Variance explained for PageRank:0.6747511671055654\n"
     ]
    }
   ],
   "source": [
    "using Statistics, StatsBase, LightGraphs\n",
    "\n",
    "\n",
    "function samarkand(arr_in)\n",
    "    arr_out = Int64[]\n",
    "    for i in arr_in\n",
    "        append!(arr_out, i.src)\n",
    "        append!(arr_out, i.dst)\n",
    "    end\n",
    "    sort!(arr_out)\n",
    "    return counts(arr_out)\n",
    "end\n",
    "\n",
    "\n",
    "for i in 1:nv(copy_gr)\n",
    "    id = \"id$i\"\n",
    "    set_prop!(copy_gr, i, :id, id)\n",
    "end\n",
    "\n",
    "copy_gr_copy = deepcopy(copy_gr)\n",
    "\n",
    "assign_weights_edges!(copy_gr, comp=\"normal_noise\")       # \"shuffle\", \"normal_noise\", betweenness_weight\"\n",
    "edg_copy_mst = kruskal_mst(copy_gr)  # both can be used\n",
    "edg_copy_mst_prim = prim_mst(copy_gr)    # both can be used\n",
    "edg_copy_mst = map(x -> x.src < x.dst ? x : Edge(x.dst, x.src), edg_copy_mst)\n",
    "edg_copy_mst_prim = map(x -> x.src < x.dst ? x : Edge(x.dst, x.src), edg_copy_mst_prim)\n",
    "\n",
    "assign_weights_edges!(copy_gr_copy, comp=\"shuffle\")\n",
    "edg_copy_mst_shuff = kruskal_mst(copy_gr_copy)\n",
    "edg_copy_mst_shuff = map(x -> x.src < x.dst ? x : Edge(x.dst, x.src), edg_copy_mst_shuff)\n",
    "\n",
    "brr = collect(map(x -> x in edg_copy_mst ? 1 : 0, edg_copy_real))\n",
    "println(\"Fraction of edges match (MST Kruskal):\", sum(brr)/length(brr))\n",
    "brr = collect(map(x -> x in edg_copy_mst_shuff ? 1 : 0, edg_copy_real))\n",
    "println(\"Fraction of edges match (Random MST):\", sum(brr)/length(brr))\n",
    "\n",
    "n_deg_mst = samarkand(edg_copy_mst)\n",
    "n_deg_mst_shuff = samarkand(edg_copy_mst_shuff)\n",
    "n_deg_simple = samarkand(edges(copy_gr))\n",
    "n_deg_real = samarkand(edg_copy_real)\n",
    "n_deg_pagerank = pagerank(copy_gr, 0.5)   # or other centralities from https://juliagraphs.org/LightGraphs.jl/v1.3/centrality/#LightGraphs.closeness_centrality\n",
    "#n_deg_dye_prop = dye_propagation(copy_gr)\n",
    "\n",
    "println(\"Variance explained for MST Kruskal:\", cor(n_deg_real, n_deg_mst)^2);\n",
    "println(\"Variance explained for Random MST:\", cor(n_deg_real, n_deg_mst_shuff)^2);\n",
    "#println(\"Variance explained for Dye Propagation alg:\", cor(n_deg_real, n_deg_dye_prop)^2);\n",
    "println(\"Variance explained for Simple:\", cor(n_deg_real, n_deg_simple)^2);\n",
    "println(\"Variance explained for PageRank:\", cor(n_deg_real, n_deg_pagerank)^2);\n",
    "\n",
    "n_deg_mst = n_deg_mst .+ rand(length(n_deg_mst)) .- 0.5\n",
    "n_deg_real = n_deg_real .+ rand(length(n_deg_real)) .- 0.5\n",
    "\n",
    "p = plot(n_deg_real, n_deg_mst, line=false, markershape=:auto, markersize=2.0, aspect_ratio=:equal);\n",
    "gui(p)"
   ]
  },
  {
   "cell_type": "code",
   "execution_count": null,
   "metadata": {},
   "outputs": [],
   "source": []
  },
  {
   "cell_type": "code",
   "execution_count": null,
   "metadata": {},
   "outputs": [],
   "source": []
  },
  {
   "cell_type": "code",
   "execution_count": null,
   "metadata": {},
   "outputs": [],
   "source": []
  }
 ],
 "metadata": {
  "kernelspec": {
   "display_name": "Python 3 (ipykernel)",
   "language": "python",
   "name": "python3"
  },
  "language_info": {
   "codemirror_mode": {
    "name": "ipython",
    "version": 3
   },
   "file_extension": ".py",
   "mimetype": "text/x-python",
   "name": "python",
   "nbconvert_exporter": "python",
   "pygments_lexer": "ipython3",
   "version": "3.9.13"
  }
 },
 "nbformat": 4,
 "nbformat_minor": 4
}
